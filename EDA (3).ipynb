{
 "cells": [
  {
   "cell_type": "markdown",
   "id": "83973451-669c-4b3b-af9d-5581a43cf71e",
   "metadata": {},
   "source": [
    "The risk is that everyone flies in airplanes nowadays which can make it dangerous if our pilots are not fully attentive or distracted during flight time. We were tasked to figure out how we can alert pilots of such drowsy or sleepy behavior."
   ]
  },
  {
   "cell_type": "code",
   "execution_count": 1,
   "id": "e4ffe024-1083-4bba-ad4f-010ccb80522b",
   "metadata": {},
   "outputs": [],
   "source": [
    "### libraries\n",
    "import pandas as pd\n",
    "import numpy as np\n",
    "import matplotlib.pyplot as plt\n",
    "from sklearn.model_selection import train_test_split\n",
    "import seaborn as sns\n",
    "from sklearn.linear_model import LinearRegression, LogisticRegression\n",
    "from sklearn.metrics import accuracy_score\n",
    "from sklearn.metrics import mean_squared_error, mean_absolute_error, r2_score, SCORERS\n",
    "from sklearn.ensemble import RandomForestRegressor,  GradientBoostingRegressor\n",
    "from sklearn.ensemble import RandomForestClassifier, GradientBoostingClassifier\n",
    "from sklearn.metrics import confusion_matrix"
   ]
  },
  {
   "cell_type": "code",
   "execution_count": 2,
   "id": "9f0bd16a-6f66-4d90-8479-9594cbcdb76e",
   "metadata": {},
   "outputs": [],
   "source": [
    "### reading in csv file and placing it into a dataframe\n",
    "df = pd.read_csv(\"train.csv\")"
   ]
  },
  {
   "cell_type": "code",
   "execution_count": 43,
   "id": "eb2a032d-e3a4-4239-a1ab-3570a30722e0",
   "metadata": {},
   "outputs": [
    {
     "data": {
      "text/html": [
       "<div>\n",
       "<style scoped>\n",
       "    .dataframe tbody tr th:only-of-type {\n",
       "        vertical-align: middle;\n",
       "    }\n",
       "\n",
       "    .dataframe tbody tr th {\n",
       "        vertical-align: top;\n",
       "    }\n",
       "\n",
       "    .dataframe thead th {\n",
       "        text-align: right;\n",
       "    }\n",
       "</style>\n",
       "<table border=\"1\" class=\"dataframe\">\n",
       "  <thead>\n",
       "    <tr style=\"text-align: right;\">\n",
       "      <th></th>\n",
       "      <th>crew</th>\n",
       "      <th>experiment</th>\n",
       "      <th>time</th>\n",
       "      <th>seat</th>\n",
       "      <th>eeg_fp1</th>\n",
       "      <th>eeg_f7</th>\n",
       "      <th>eeg_f8</th>\n",
       "      <th>eeg_t4</th>\n",
       "      <th>eeg_t6</th>\n",
       "      <th>eeg_t5</th>\n",
       "      <th>...</th>\n",
       "      <th>eeg_c4</th>\n",
       "      <th>eeg_p4</th>\n",
       "      <th>eeg_poz</th>\n",
       "      <th>eeg_c3</th>\n",
       "      <th>eeg_cz</th>\n",
       "      <th>eeg_o2</th>\n",
       "      <th>ecg</th>\n",
       "      <th>r</th>\n",
       "      <th>gsr</th>\n",
       "      <th>event</th>\n",
       "    </tr>\n",
       "  </thead>\n",
       "  <tbody>\n",
       "    <tr>\n",
       "      <th>0</th>\n",
       "      <td>1</td>\n",
       "      <td>CA</td>\n",
       "      <td>0.011719</td>\n",
       "      <td>1</td>\n",
       "      <td>-5.28545</td>\n",
       "      <td>26.775801</td>\n",
       "      <td>-9.527310</td>\n",
       "      <td>-12.793200</td>\n",
       "      <td>16.717800</td>\n",
       "      <td>33.737499</td>\n",
       "      <td>...</td>\n",
       "      <td>37.368999</td>\n",
       "      <td>17.437599</td>\n",
       "      <td>19.201900</td>\n",
       "      <td>20.596800</td>\n",
       "      <td>-3.951150</td>\n",
       "      <td>14.507600</td>\n",
       "      <td>-4520.0</td>\n",
       "      <td>817.705994</td>\n",
       "      <td>388.829987</td>\n",
       "      <td>A</td>\n",
       "    </tr>\n",
       "    <tr>\n",
       "      <th>1</th>\n",
       "      <td>1</td>\n",
       "      <td>CA</td>\n",
       "      <td>0.015625</td>\n",
       "      <td>1</td>\n",
       "      <td>-2.42842</td>\n",
       "      <td>28.430901</td>\n",
       "      <td>-9.323510</td>\n",
       "      <td>-3.757230</td>\n",
       "      <td>15.969300</td>\n",
       "      <td>30.443600</td>\n",
       "      <td>...</td>\n",
       "      <td>31.170799</td>\n",
       "      <td>19.399700</td>\n",
       "      <td>19.689501</td>\n",
       "      <td>21.354700</td>\n",
       "      <td>1.332120</td>\n",
       "      <td>17.750200</td>\n",
       "      <td>-4520.0</td>\n",
       "      <td>817.705994</td>\n",
       "      <td>388.829987</td>\n",
       "      <td>A</td>\n",
       "    </tr>\n",
       "    <tr>\n",
       "      <th>2</th>\n",
       "      <td>1</td>\n",
       "      <td>CA</td>\n",
       "      <td>0.019531</td>\n",
       "      <td>1</td>\n",
       "      <td>10.67150</td>\n",
       "      <td>30.420200</td>\n",
       "      <td>15.350700</td>\n",
       "      <td>24.724001</td>\n",
       "      <td>16.143101</td>\n",
       "      <td>32.142799</td>\n",
       "      <td>...</td>\n",
       "      <td>-12.012600</td>\n",
       "      <td>19.396299</td>\n",
       "      <td>23.171700</td>\n",
       "      <td>22.407600</td>\n",
       "      <td>1.537860</td>\n",
       "      <td>22.247000</td>\n",
       "      <td>-4520.0</td>\n",
       "      <td>817.705994</td>\n",
       "      <td>388.829987</td>\n",
       "      <td>A</td>\n",
       "    </tr>\n",
       "    <tr>\n",
       "      <th>3</th>\n",
       "      <td>1</td>\n",
       "      <td>CA</td>\n",
       "      <td>0.023438</td>\n",
       "      <td>1</td>\n",
       "      <td>11.45250</td>\n",
       "      <td>25.609800</td>\n",
       "      <td>2.433080</td>\n",
       "      <td>12.412500</td>\n",
       "      <td>20.533300</td>\n",
       "      <td>31.494101</td>\n",
       "      <td>...</td>\n",
       "      <td>18.574100</td>\n",
       "      <td>23.156401</td>\n",
       "      <td>22.641199</td>\n",
       "      <td>19.336700</td>\n",
       "      <td>2.544920</td>\n",
       "      <td>18.998600</td>\n",
       "      <td>-4520.0</td>\n",
       "      <td>817.705994</td>\n",
       "      <td>388.829987</td>\n",
       "      <td>A</td>\n",
       "    </tr>\n",
       "    <tr>\n",
       "      <th>4</th>\n",
       "      <td>1</td>\n",
       "      <td>CA</td>\n",
       "      <td>0.027344</td>\n",
       "      <td>1</td>\n",
       "      <td>7.28321</td>\n",
       "      <td>25.942600</td>\n",
       "      <td>0.113564</td>\n",
       "      <td>5.748000</td>\n",
       "      <td>19.833599</td>\n",
       "      <td>28.753599</td>\n",
       "      <td>...</td>\n",
       "      <td>6.555440</td>\n",
       "      <td>22.754700</td>\n",
       "      <td>22.670300</td>\n",
       "      <td>20.293200</td>\n",
       "      <td>1.699620</td>\n",
       "      <td>22.812799</td>\n",
       "      <td>-4520.0</td>\n",
       "      <td>817.705994</td>\n",
       "      <td>388.829987</td>\n",
       "      <td>A</td>\n",
       "    </tr>\n",
       "    <tr>\n",
       "      <th>5</th>\n",
       "      <td>1</td>\n",
       "      <td>CA</td>\n",
       "      <td>0.031250</td>\n",
       "      <td>1</td>\n",
       "      <td>6.06746</td>\n",
       "      <td>23.128300</td>\n",
       "      <td>8.645660</td>\n",
       "      <td>14.380800</td>\n",
       "      <td>16.055500</td>\n",
       "      <td>26.925200</td>\n",
       "      <td>...</td>\n",
       "      <td>-9.289120</td>\n",
       "      <td>21.440599</td>\n",
       "      <td>23.253700</td>\n",
       "      <td>19.069599</td>\n",
       "      <td>-0.765018</td>\n",
       "      <td>26.451900</td>\n",
       "      <td>-4520.0</td>\n",
       "      <td>817.705994</td>\n",
       "      <td>388.829987</td>\n",
       "      <td>A</td>\n",
       "    </tr>\n",
       "    <tr>\n",
       "      <th>6</th>\n",
       "      <td>1</td>\n",
       "      <td>CA</td>\n",
       "      <td>0.035156</td>\n",
       "      <td>1</td>\n",
       "      <td>-1.37602</td>\n",
       "      <td>20.972000</td>\n",
       "      <td>3.754160</td>\n",
       "      <td>13.766700</td>\n",
       "      <td>18.122000</td>\n",
       "      <td>29.391199</td>\n",
       "      <td>...</td>\n",
       "      <td>-0.604736</td>\n",
       "      <td>20.993401</td>\n",
       "      <td>21.556200</td>\n",
       "      <td>17.327299</td>\n",
       "      <td>1.465000</td>\n",
       "      <td>21.289301</td>\n",
       "      <td>-4520.0</td>\n",
       "      <td>817.705994</td>\n",
       "      <td>388.829987</td>\n",
       "      <td>A</td>\n",
       "    </tr>\n",
       "    <tr>\n",
       "      <th>7</th>\n",
       "      <td>1</td>\n",
       "      <td>CA</td>\n",
       "      <td>0.039062</td>\n",
       "      <td>1</td>\n",
       "      <td>1.54787</td>\n",
       "      <td>18.398100</td>\n",
       "      <td>-9.113150</td>\n",
       "      <td>-1.033160</td>\n",
       "      <td>22.627001</td>\n",
       "      <td>32.816601</td>\n",
       "      <td>...</td>\n",
       "      <td>17.483601</td>\n",
       "      <td>22.912600</td>\n",
       "      <td>23.187000</td>\n",
       "      <td>18.462700</td>\n",
       "      <td>0.299232</td>\n",
       "      <td>23.691500</td>\n",
       "      <td>-4520.0</td>\n",
       "      <td>817.705994</td>\n",
       "      <td>388.829987</td>\n",
       "      <td>A</td>\n",
       "    </tr>\n",
       "    <tr>\n",
       "      <th>8</th>\n",
       "      <td>1</td>\n",
       "      <td>CA</td>\n",
       "      <td>0.042969</td>\n",
       "      <td>1</td>\n",
       "      <td>-7.78946</td>\n",
       "      <td>12.210700</td>\n",
       "      <td>-8.953760</td>\n",
       "      <td>1.091740</td>\n",
       "      <td>28.526501</td>\n",
       "      <td>35.267200</td>\n",
       "      <td>...</td>\n",
       "      <td>16.681101</td>\n",
       "      <td>28.779600</td>\n",
       "      <td>28.382099</td>\n",
       "      <td>20.697300</td>\n",
       "      <td>-6.620750</td>\n",
       "      <td>31.672701</td>\n",
       "      <td>-4520.0</td>\n",
       "      <td>817.705994</td>\n",
       "      <td>388.829987</td>\n",
       "      <td>A</td>\n",
       "    </tr>\n",
       "    <tr>\n",
       "      <th>9</th>\n",
       "      <td>1</td>\n",
       "      <td>CA</td>\n",
       "      <td>0.046875</td>\n",
       "      <td>1</td>\n",
       "      <td>-11.17750</td>\n",
       "      <td>18.235901</td>\n",
       "      <td>-1.035220</td>\n",
       "      <td>4.751110</td>\n",
       "      <td>25.983801</td>\n",
       "      <td>30.499100</td>\n",
       "      <td>...</td>\n",
       "      <td>0.489098</td>\n",
       "      <td>21.937500</td>\n",
       "      <td>21.629299</td>\n",
       "      <td>19.525999</td>\n",
       "      <td>-5.186040</td>\n",
       "      <td>21.618700</td>\n",
       "      <td>-4520.0</td>\n",
       "      <td>817.705994</td>\n",
       "      <td>388.829987</td>\n",
       "      <td>A</td>\n",
       "    </tr>\n",
       "  </tbody>\n",
       "</table>\n",
       "<p>10 rows × 28 columns</p>\n",
       "</div>"
      ],
      "text/plain": [
       "   crew experiment      time  seat   eeg_fp1     eeg_f7     eeg_f8     eeg_t4  \\\n",
       "0     1         CA  0.011719     1  -5.28545  26.775801  -9.527310 -12.793200   \n",
       "1     1         CA  0.015625     1  -2.42842  28.430901  -9.323510  -3.757230   \n",
       "2     1         CA  0.019531     1  10.67150  30.420200  15.350700  24.724001   \n",
       "3     1         CA  0.023438     1  11.45250  25.609800   2.433080  12.412500   \n",
       "4     1         CA  0.027344     1   7.28321  25.942600   0.113564   5.748000   \n",
       "5     1         CA  0.031250     1   6.06746  23.128300   8.645660  14.380800   \n",
       "6     1         CA  0.035156     1  -1.37602  20.972000   3.754160  13.766700   \n",
       "7     1         CA  0.039062     1   1.54787  18.398100  -9.113150  -1.033160   \n",
       "8     1         CA  0.042969     1  -7.78946  12.210700  -8.953760   1.091740   \n",
       "9     1         CA  0.046875     1 -11.17750  18.235901  -1.035220   4.751110   \n",
       "\n",
       "      eeg_t6     eeg_t5  ...     eeg_c4     eeg_p4    eeg_poz     eeg_c3  \\\n",
       "0  16.717800  33.737499  ...  37.368999  17.437599  19.201900  20.596800   \n",
       "1  15.969300  30.443600  ...  31.170799  19.399700  19.689501  21.354700   \n",
       "2  16.143101  32.142799  ... -12.012600  19.396299  23.171700  22.407600   \n",
       "3  20.533300  31.494101  ...  18.574100  23.156401  22.641199  19.336700   \n",
       "4  19.833599  28.753599  ...   6.555440  22.754700  22.670300  20.293200   \n",
       "5  16.055500  26.925200  ...  -9.289120  21.440599  23.253700  19.069599   \n",
       "6  18.122000  29.391199  ...  -0.604736  20.993401  21.556200  17.327299   \n",
       "7  22.627001  32.816601  ...  17.483601  22.912600  23.187000  18.462700   \n",
       "8  28.526501  35.267200  ...  16.681101  28.779600  28.382099  20.697300   \n",
       "9  25.983801  30.499100  ...   0.489098  21.937500  21.629299  19.525999   \n",
       "\n",
       "     eeg_cz     eeg_o2     ecg           r         gsr  event  \n",
       "0 -3.951150  14.507600 -4520.0  817.705994  388.829987      A  \n",
       "1  1.332120  17.750200 -4520.0  817.705994  388.829987      A  \n",
       "2  1.537860  22.247000 -4520.0  817.705994  388.829987      A  \n",
       "3  2.544920  18.998600 -4520.0  817.705994  388.829987      A  \n",
       "4  1.699620  22.812799 -4520.0  817.705994  388.829987      A  \n",
       "5 -0.765018  26.451900 -4520.0  817.705994  388.829987      A  \n",
       "6  1.465000  21.289301 -4520.0  817.705994  388.829987      A  \n",
       "7  0.299232  23.691500 -4520.0  817.705994  388.829987      A  \n",
       "8 -6.620750  31.672701 -4520.0  817.705994  388.829987      A  \n",
       "9 -5.186040  21.618700 -4520.0  817.705994  388.829987      A  \n",
       "\n",
       "[10 rows x 28 columns]"
      ]
     },
     "execution_count": 43,
     "metadata": {},
     "output_type": "execute_result"
    }
   ],
   "source": [
    "### printing out the fist five rows of the data frame that we just created\n",
    "df.head(10)"
   ]
  },
  {
   "cell_type": "code",
   "execution_count": 5,
   "id": "31e761b1-e9cd-48c0-82a8-a137c54f9ef6",
   "metadata": {},
   "outputs": [
    {
     "data": {
      "text/plain": [
       "(4867421, 28)"
      ]
     },
     "execution_count": 5,
     "metadata": {},
     "output_type": "execute_result"
    }
   ],
   "source": [
    "### printing out the shape of our dataframe\n",
    "df.shape"
   ]
  },
  {
   "cell_type": "code",
   "execution_count": 50,
   "id": "39954268-7c36-43c3-b89e-67a996c923af",
   "metadata": {},
   "outputs": [],
   "source": [
    "### placing the column names into a variable\n",
    "column_names = df.columns\n",
    "# df[column_names[10]].plot(title=column_names[10])\n",
    "df[\"seat\"] = df[\"seat\"].astype(\"bool\")"
   ]
  },
  {
   "cell_type": "code",
   "execution_count": 51,
   "id": "0c5a78f0-f51f-40c8-a47d-8d35616b53b4",
   "metadata": {},
   "outputs": [
    {
     "data": {
      "text/plain": [
       "crew            int64\n",
       "experiment     object\n",
       "time          float64\n",
       "seat             bool\n",
       "eeg_fp1       float64\n",
       "eeg_f7        float64\n",
       "eeg_f8        float64\n",
       "eeg_t4        float64\n",
       "eeg_t6        float64\n",
       "eeg_t5        float64\n",
       "eeg_t3        float64\n",
       "eeg_fp2       float64\n",
       "eeg_o1        float64\n",
       "eeg_p3        float64\n",
       "eeg_pz        float64\n",
       "eeg_f3        float64\n",
       "eeg_fz        float64\n",
       "eeg_f4        float64\n",
       "eeg_c4        float64\n",
       "eeg_p4        float64\n",
       "eeg_poz       float64\n",
       "eeg_c3        float64\n",
       "eeg_cz        float64\n",
       "eeg_o2        float64\n",
       "ecg           float64\n",
       "r             float64\n",
       "gsr           float64\n",
       "event          object\n",
       "dtype: object"
      ]
     },
     "execution_count": 51,
     "metadata": {},
     "output_type": "execute_result"
    }
   ],
   "source": [
    "### printing out the types of each column\n",
    "df.dtypes"
   ]
  },
  {
   "cell_type": "code",
   "execution_count": 8,
   "id": "82055942-64a8-4e2c-8698-d44fdfb28664",
   "metadata": {},
   "outputs": [
    {
     "data": {
      "text/plain": [
       "Text(0, 0.5, 'Frequency')"
      ]
     },
     "execution_count": 8,
     "metadata": {},
     "output_type": "execute_result"
    },
    {
     "data": {
      "image/png": "[encoded data removed]",
      "text/plain": [
       "<Figure size 640x480 with 1 Axes>"
      ]
     },
     "metadata": {},
     "output_type": "display_data"
    }
   ],
   "source": [
    "### creating a historgram of the Crew column\n",
    "# g = df[\"crew\"].hist(bins=9)\n",
    "# df[\"crew\"].unique()\n",
    "# df.loc[df[\"crew\"].isna() == True]\n",
    "plt.hist(df[\"crew\"])\n",
    "plt.title(\"Crew Graph\")\n",
    "plt.xlabel(\"Crew Number\")\n",
    "plt.ylabel(\"Frequency\")"
   ]
  },
  {
   "cell_type": "code",
   "execution_count": 9,
   "id": "db519a7e-0d9a-4901-80c4-b8f9ab5c7ee9",
   "metadata": {},
   "outputs": [
    {
     "data": {
      "text/plain": [
       "<Axes: >"
      ]
     },
     "execution_count": 9,
     "metadata": {},
     "output_type": "execute_result"
    },
    {
     "data": {
      "image/png": "[encoded data removed]",
      "text/plain": [
       "<Figure size 640x480 with 1 Axes>"
      ]
     },
     "metadata": {},
     "output_type": "display_data"
    }
   ],
   "source": [
    "### creating a histogram of the target column aka the experiment column\n",
    "df[\"experiment\"].hist()\n",
    "# df.loc[df[\"experiment\"].isnull() == True]"
   ]
  },
  {
   "cell_type": "code",
   "execution_count": 20,
   "id": "79d79095-8aab-40c7-886e-a49e3ba79967",
   "metadata": {},
   "outputs": [
    {
     "data": {
      "text/plain": [
       "<Axes: xlabel='rows', ylabel='time'>"
      ]
     },
     "execution_count": 20,
     "metadata": {},
     "output_type": "execute_result"
    },
    {
     "data": {
      "image/png": "[encoded data removed]",
      "text/plain": [
       "<Figure size 640x480 with 1 Axes>"
      ]
     },
     "metadata": {},
     "output_type": "display_data"
    }
   ],
   "source": [
    "### plotting the time column\n",
    "# df[\"time\"].hist()\n",
    "df[\"time\"][1:500000].plot(xlabel=\"rows\", ylabel=\"time\")\n",
    "# df[\"time\"].unique()"
   ]
  },
  {
   "cell_type": "code",
   "execution_count": 11,
   "id": "694b96ed-9db8-4a9b-8762-2f5cbfcedc0f",
   "metadata": {},
   "outputs": [
    {
     "data": {
      "text/plain": [
       "<Axes: >"
      ]
     },
     "execution_count": 11,
     "metadata": {},
     "output_type": "execute_result"
    },
    {
     "data": {
      "image/png": "[encoded data removed]",
      "text/plain": [
       "<Figure size 640x480 with 1 Axes>"
      ]
     },
     "metadata": {},
     "output_type": "display_data"
    }
   ],
   "source": [
    "### creating a histogram of the seat column \n",
    "df[\"seat\"].unique()\n",
    "df[\"seat\"].hist()"
   ]
  },
  {
   "cell_type": "code",
   "execution_count": 93,
   "id": "5be50a8e-9202-48d5-81d0-2650207afedb",
   "metadata": {},
   "outputs": [
    {
     "data": {
      "text/plain": [
       "Text(0.5, 1.0, 'eeg_fp1 Graph')"
      ]
     },
     "execution_count": 93,
     "metadata": {},
     "output_type": "execute_result"
    },
    {
     "data": {
      "image/png": "[encoded data removed]",
      "text/plain": [
       "<Figure size 640x480 with 1 Axes>"
      ]
     },
     "metadata": {},
     "output_type": "display_data"
    }
   ],
   "source": [
    "### ploting the fp1 column\n",
    "# g = df[\"eeg_fp1\"].plot()\n",
    "plt.plot(df[\"eeg_fp1\"])\n",
    "# plt.legend()\n",
    "plt.xlabel(\"rows\")\n",
    "plt.ylabel(\"values\")\n",
    "plt.title(\"eeg_fp1 Graph\")"
   ]
  },
  {
   "cell_type": "code",
   "execution_count": 30,
   "id": "32f49c30-9a1c-4439-bed4-042178381456",
   "metadata": {},
   "outputs": [
    {
     "data": {
      "text/plain": [
       "<Axes: >"
      ]
     },
     "execution_count": 30,
     "metadata": {},
     "output_type": "execute_result"
    },
    {
     "data": {
      "image/png": "[encoded data removed]",
      "text/plain": [
       "<Figure size 640x480 with 1 Axes>"
      ]
     },
     "metadata": {},
     "output_type": "display_data"
    }
   ],
   "source": [
    "### plotting fp2\n",
    "df[\"eeg_fp2\"].plot()"
   ]
  },
  {
   "cell_type": "code",
   "execution_count": 41,
   "id": "f33d37ff-ca3a-4b45-b603-46f7584e6307",
   "metadata": {},
   "outputs": [
    {
     "data": {
      "text/plain": [
       "<Axes: >"
      ]
     },
     "execution_count": 41,
     "metadata": {},
     "output_type": "execute_result"
    },
    {
     "data": {
      "image/png": "[encoded data removed]",
      "text/plain": [
       "<Figure size 640x480 with 1 Axes>"
      ]
     },
     "metadata": {},
     "output_type": "display_data"
    }
   ],
   "source": [
    "### plotting f7\n",
    "# df.loc[df[\"eeg_f7\"].isna()==True]\n",
    "# len(df[\"eeg_f7\"].unique())\n",
    "df[\"eeg_f7\"].plot()"
   ]
  },
  {
   "cell_type": "code",
   "execution_count": 12,
   "id": "a6752bca-0765-46c6-b5ff-a3859b459d33",
   "metadata": {},
   "outputs": [
    {
     "data": {
      "text/plain": [
       "[<matplotlib.lines.Line2D at 0x21424cee0e0>]"
      ]
     },
     "execution_count": 12,
     "metadata": {},
     "output_type": "execute_result"
    },
    {
     "data": {
      "image/png": "[encoded data removed]",
      "text/plain": [
       "<Figure size 640x480 with 1 Axes>"
      ]
     },
     "metadata": {},
     "output_type": "display_data"
    }
   ],
   "source": [
    "### plotting f8\n",
    "plt.plot(df[\"eeg_f8\"])"
   ]
  },
  {
   "cell_type": "code",
   "execution_count": 14,
   "id": "4668b560-52d3-438a-b82a-8e614861800f",
   "metadata": {},
   "outputs": [
    {
     "data": {
      "text/plain": [
       "[<matplotlib.lines.Line2D at 0x2147fde5450>]"
      ]
     },
     "execution_count": 14,
     "metadata": {},
     "output_type": "execute_result"
    },
    {
     "data": {
      "image/png": "[encoded data removed]",
      "text/plain": [
       "<Figure size 640x480 with 1 Axes>"
      ]
     },
     "metadata": {},
     "output_type": "display_data"
    }
   ],
   "source": [
    "### plotting t4\n",
    "plt.plot(df[\"eeg_t4\"])"
   ]
  },
  {
   "cell_type": "code",
   "execution_count": 52,
   "id": "3d1e248d-bc1b-4cca-8523-9de41996caf3",
   "metadata": {},
   "outputs": [
    {
     "data": {
      "text/plain": [
       "[<matplotlib.lines.Line2D at 0x2875b3d40d0>]"
      ]
     },
     "execution_count": 52,
     "metadata": {},
     "output_type": "execute_result"
    },
    {
     "data": {
      "image/png": "[encoded data removed]",
      "text/plain": [
       "<Figure size 640x480 with 1 Axes>"
      ]
     },
     "metadata": {},
     "output_type": "display_data"
    }
   ],
   "source": [
    "### possibly printing out column names and plotting t5\n",
    "column_names\n",
    "# plt.plot(df[\"eeg_t6\"])\n",
    "plt.plot(df[\"eeg_t5\"])\n"
   ]
  },
  {
   "cell_type": "code",
   "execution_count": 18,
   "id": "5e666abd-6eff-4406-b8db-33b36b68fb13",
   "metadata": {},
   "outputs": [
    {
     "data": {
      "text/plain": [
       "Text(0.5, 1.0, 'eeg_fp1 vs time')"
      ]
     },
     "execution_count": 18,
     "metadata": {},
     "output_type": "execute_result"
    },
    {
     "data": {
      "image/png": "[encoded data removed]",
      "text/plain": [
       "<Figure size 640x480 with 1 Axes>"
      ]
     },
     "metadata": {},
     "output_type": "display_data"
    }
   ],
   "source": [
    "### plotting time vs fp1\n",
    "plt.scatter(df['time'], df['eeg_fp1'])\n",
    "plt.xlabel(\"time\")\n",
    "plt.ylabel(\"eeg_fp1\")\n",
    "plt.title(\"eeg_fp1 vs time\")"
   ]
  },
  {
   "cell_type": "code",
   "execution_count": 16,
   "id": "a30d75b6-d9c2-46b7-a9ad-cb360eca4451",
   "metadata": {},
   "outputs": [
    {
     "data": {
      "text/html": [
       "<div>\n",
       "<style scoped>\n",
       "    .dataframe tbody tr th:only-of-type {\n",
       "        vertical-align: middle;\n",
       "    }\n",
       "\n",
       "    .dataframe tbody tr th {\n",
       "        vertical-align: top;\n",
       "    }\n",
       "\n",
       "    .dataframe thead th {\n",
       "        text-align: right;\n",
       "    }\n",
       "</style>\n",
       "<table border=\"1\" class=\"dataframe\">\n",
       "  <thead>\n",
       "    <tr style=\"text-align: right;\">\n",
       "      <th></th>\n",
       "      <th>crew</th>\n",
       "      <th>experiment</th>\n",
       "      <th>time</th>\n",
       "      <th>seat</th>\n",
       "      <th>eeg_fp1</th>\n",
       "      <th>eeg_f7</th>\n",
       "      <th>eeg_f8</th>\n",
       "      <th>eeg_t4</th>\n",
       "      <th>eeg_t6</th>\n",
       "      <th>eeg_t5</th>\n",
       "      <th>...</th>\n",
       "      <th>eeg_c4</th>\n",
       "      <th>eeg_p4</th>\n",
       "      <th>eeg_poz</th>\n",
       "      <th>eeg_c3</th>\n",
       "      <th>eeg_cz</th>\n",
       "      <th>eeg_o2</th>\n",
       "      <th>ecg</th>\n",
       "      <th>r</th>\n",
       "      <th>gsr</th>\n",
       "      <th>event</th>\n",
       "    </tr>\n",
       "  </thead>\n",
       "  <tbody>\n",
       "    <tr>\n",
       "      <th>36</th>\n",
       "      <td>1</td>\n",
       "      <td>CA</td>\n",
       "      <td>0.152344</td>\n",
       "      <td>1</td>\n",
       "      <td>0.0</td>\n",
       "      <td>22.184700</td>\n",
       "      <td>0.111374</td>\n",
       "      <td>8.494920</td>\n",
       "      <td>12.991300</td>\n",
       "      <td>22.642599</td>\n",
       "      <td>...</td>\n",
       "      <td>15.701800</td>\n",
       "      <td>14.709800</td>\n",
       "      <td>12.678200</td>\n",
       "      <td>14.447000</td>\n",
       "      <td>10.85240</td>\n",
       "      <td>15.675700</td>\n",
       "      <td>-4520.000000</td>\n",
       "      <td>817.705994</td>\n",
       "      <td>388.829987</td>\n",
       "      <td>A</td>\n",
       "    </tr>\n",
       "    <tr>\n",
       "      <th>52</th>\n",
       "      <td>1</td>\n",
       "      <td>CA</td>\n",
       "      <td>0.199219</td>\n",
       "      <td>0</td>\n",
       "      <td>0.0</td>\n",
       "      <td>-0.260347</td>\n",
       "      <td>5.007830</td>\n",
       "      <td>10.015900</td>\n",
       "      <td>-1.802200</td>\n",
       "      <td>-7.049790</td>\n",
       "      <td>...</td>\n",
       "      <td>-1.161440</td>\n",
       "      <td>-1.529110</td>\n",
       "      <td>-7.383270</td>\n",
       "      <td>-0.912276</td>\n",
       "      <td>3.56484</td>\n",
       "      <td>-9.385510</td>\n",
       "      <td>-18260.800780</td>\n",
       "      <td>665.002014</td>\n",
       "      <td>823.356018</td>\n",
       "      <td>A</td>\n",
       "    </tr>\n",
       "    <tr>\n",
       "      <th>53</th>\n",
       "      <td>1</td>\n",
       "      <td>CA</td>\n",
       "      <td>0.199219</td>\n",
       "      <td>1</td>\n",
       "      <td>0.0</td>\n",
       "      <td>20.566000</td>\n",
       "      <td>-5.065160</td>\n",
       "      <td>6.118420</td>\n",
       "      <td>18.780701</td>\n",
       "      <td>23.040199</td>\n",
       "      <td>...</td>\n",
       "      <td>15.560600</td>\n",
       "      <td>21.701700</td>\n",
       "      <td>20.516800</td>\n",
       "      <td>17.092600</td>\n",
       "      <td>21.44940</td>\n",
       "      <td>20.340900</td>\n",
       "      <td>-4511.839844</td>\n",
       "      <td>817.687012</td>\n",
       "      <td>388.612000</td>\n",
       "      <td>A</td>\n",
       "    </tr>\n",
       "    <tr>\n",
       "      <th>581</th>\n",
       "      <td>1</td>\n",
       "      <td>CA</td>\n",
       "      <td>1.230469</td>\n",
       "      <td>1</td>\n",
       "      <td>0.0</td>\n",
       "      <td>4.559800</td>\n",
       "      <td>-3.682390</td>\n",
       "      <td>13.541600</td>\n",
       "      <td>33.072498</td>\n",
       "      <td>41.039600</td>\n",
       "      <td>...</td>\n",
       "      <td>18.823000</td>\n",
       "      <td>22.248199</td>\n",
       "      <td>22.690001</td>\n",
       "      <td>13.416700</td>\n",
       "      <td>19.55530</td>\n",
       "      <td>40.707500</td>\n",
       "      <td>-4447.339844</td>\n",
       "      <td>817.411011</td>\n",
       "      <td>384.744995</td>\n",
       "      <td>A</td>\n",
       "    </tr>\n",
       "    <tr>\n",
       "      <th>867</th>\n",
       "      <td>1</td>\n",
       "      <td>CA</td>\n",
       "      <td>1.789062</td>\n",
       "      <td>1</td>\n",
       "      <td>0.0</td>\n",
       "      <td>-9.098300</td>\n",
       "      <td>2.944960</td>\n",
       "      <td>11.234000</td>\n",
       "      <td>0.204641</td>\n",
       "      <td>-9.949230</td>\n",
       "      <td>...</td>\n",
       "      <td>-0.884221</td>\n",
       "      <td>1.452980</td>\n",
       "      <td>-2.688510</td>\n",
       "      <td>-6.150930</td>\n",
       "      <td>-76.18280</td>\n",
       "      <td>6.472630</td>\n",
       "      <td>-4418.729980</td>\n",
       "      <td>817.627991</td>\n",
       "      <td>384.877014</td>\n",
       "      <td>A</td>\n",
       "    </tr>\n",
       "    <tr>\n",
       "      <th>...</th>\n",
       "      <td>...</td>\n",
       "      <td>...</td>\n",
       "      <td>...</td>\n",
       "      <td>...</td>\n",
       "      <td>...</td>\n",
       "      <td>...</td>\n",
       "      <td>...</td>\n",
       "      <td>...</td>\n",
       "      <td>...</td>\n",
       "      <td>...</td>\n",
       "      <td>...</td>\n",
       "      <td>...</td>\n",
       "      <td>...</td>\n",
       "      <td>...</td>\n",
       "      <td>...</td>\n",
       "      <td>...</td>\n",
       "      <td>...</td>\n",
       "      <td>...</td>\n",
       "      <td>...</td>\n",
       "      <td>...</td>\n",
       "      <td>...</td>\n",
       "    </tr>\n",
       "    <tr>\n",
       "      <th>4864281</th>\n",
       "      <td>13</td>\n",
       "      <td>SS</td>\n",
       "      <td>93.883003</td>\n",
       "      <td>0</td>\n",
       "      <td>0.0</td>\n",
       "      <td>-7.025490</td>\n",
       "      <td>-15.967600</td>\n",
       "      <td>-8.296620</td>\n",
       "      <td>7.662790</td>\n",
       "      <td>1.446540</td>\n",
       "      <td>...</td>\n",
       "      <td>20.701300</td>\n",
       "      <td>14.450100</td>\n",
       "      <td>14.471500</td>\n",
       "      <td>0.904007</td>\n",
       "      <td>11.12310</td>\n",
       "      <td>20.819799</td>\n",
       "      <td>-13691.400391</td>\n",
       "      <td>667.562012</td>\n",
       "      <td>547.919983</td>\n",
       "      <td>B</td>\n",
       "    </tr>\n",
       "    <tr>\n",
       "      <th>4865497</th>\n",
       "      <td>13</td>\n",
       "      <td>SS</td>\n",
       "      <td>96.277008</td>\n",
       "      <td>1</td>\n",
       "      <td>0.0</td>\n",
       "      <td>-49.076599</td>\n",
       "      <td>1.400870</td>\n",
       "      <td>-13.697000</td>\n",
       "      <td>36.296200</td>\n",
       "      <td>12.736100</td>\n",
       "      <td>...</td>\n",
       "      <td>6.933350</td>\n",
       "      <td>20.332199</td>\n",
       "      <td>16.555099</td>\n",
       "      <td>-10.424500</td>\n",
       "      <td>8.65020</td>\n",
       "      <td>12.235000</td>\n",
       "      <td>-8518.700195</td>\n",
       "      <td>782.656982</td>\n",
       "      <td>759.080994</td>\n",
       "      <td>B</td>\n",
       "    </tr>\n",
       "    <tr>\n",
       "      <th>4865857</th>\n",
       "      <td>13</td>\n",
       "      <td>SS</td>\n",
       "      <td>96.944008</td>\n",
       "      <td>1</td>\n",
       "      <td>0.0</td>\n",
       "      <td>203.033997</td>\n",
       "      <td>-18.034000</td>\n",
       "      <td>-64.009300</td>\n",
       "      <td>-55.088402</td>\n",
       "      <td>-65.703003</td>\n",
       "      <td>...</td>\n",
       "      <td>10.112800</td>\n",
       "      <td>16.328501</td>\n",
       "      <td>45.369701</td>\n",
       "      <td>-125.779999</td>\n",
       "      <td>1.54629</td>\n",
       "      <td>5.637940</td>\n",
       "      <td>-8381.230469</td>\n",
       "      <td>776.377991</td>\n",
       "      <td>731.145996</td>\n",
       "      <td>B</td>\n",
       "    </tr>\n",
       "    <tr>\n",
       "      <th>4866583</th>\n",
       "      <td>13</td>\n",
       "      <td>SS</td>\n",
       "      <td>98.374008</td>\n",
       "      <td>0</td>\n",
       "      <td>0.0</td>\n",
       "      <td>1.403890</td>\n",
       "      <td>40.671700</td>\n",
       "      <td>115.160004</td>\n",
       "      <td>43.365601</td>\n",
       "      <td>8.397570</td>\n",
       "      <td>...</td>\n",
       "      <td>9.402900</td>\n",
       "      <td>20.033100</td>\n",
       "      <td>12.887400</td>\n",
       "      <td>-7.214070</td>\n",
       "      <td>9.44225</td>\n",
       "      <td>18.185801</td>\n",
       "      <td>-13668.099609</td>\n",
       "      <td>667.705017</td>\n",
       "      <td>541.879028</td>\n",
       "      <td>B</td>\n",
       "    </tr>\n",
       "    <tr>\n",
       "      <th>4866605</th>\n",
       "      <td>13</td>\n",
       "      <td>SS</td>\n",
       "      <td>98.410004</td>\n",
       "      <td>0</td>\n",
       "      <td>0.0</td>\n",
       "      <td>-4.307230</td>\n",
       "      <td>45.966702</td>\n",
       "      <td>102.002998</td>\n",
       "      <td>22.175100</td>\n",
       "      <td>5.359660</td>\n",
       "      <td>...</td>\n",
       "      <td>2.682030</td>\n",
       "      <td>10.990600</td>\n",
       "      <td>10.151400</td>\n",
       "      <td>-4.813710</td>\n",
       "      <td>6.43735</td>\n",
       "      <td>15.703300</td>\n",
       "      <td>-13670.000000</td>\n",
       "      <td>667.693970</td>\n",
       "      <td>541.929993</td>\n",
       "      <td>B</td>\n",
       "    </tr>\n",
       "  </tbody>\n",
       "</table>\n",
       "<p>15845 rows × 28 columns</p>\n",
       "</div>"
      ],
      "text/plain": [
       "         crew experiment       time  seat  eeg_fp1      eeg_f7     eeg_f8  \\\n",
       "36          1         CA   0.152344     1      0.0   22.184700   0.111374   \n",
       "52          1         CA   0.199219     0      0.0   -0.260347   5.007830   \n",
       "53          1         CA   0.199219     1      0.0   20.566000  -5.065160   \n",
       "581         1         CA   1.230469     1      0.0    4.559800  -3.682390   \n",
       "867         1         CA   1.789062     1      0.0   -9.098300   2.944960   \n",
       "...       ...        ...        ...   ...      ...         ...        ...   \n",
       "4864281    13         SS  93.883003     0      0.0   -7.025490 -15.967600   \n",
       "4865497    13         SS  96.277008     1      0.0  -49.076599   1.400870   \n",
       "4865857    13         SS  96.944008     1      0.0  203.033997 -18.034000   \n",
       "4866583    13         SS  98.374008     0      0.0    1.403890  40.671700   \n",
       "4866605    13         SS  98.410004     0      0.0   -4.307230  45.966702   \n",
       "\n",
       "             eeg_t4     eeg_t6     eeg_t5  ...     eeg_c4     eeg_p4  \\\n",
       "36         8.494920  12.991300  22.642599  ...  15.701800  14.709800   \n",
       "52        10.015900  -1.802200  -7.049790  ...  -1.161440  -1.529110   \n",
       "53         6.118420  18.780701  23.040199  ...  15.560600  21.701700   \n",
       "581       13.541600  33.072498  41.039600  ...  18.823000  22.248199   \n",
       "867       11.234000   0.204641  -9.949230  ...  -0.884221   1.452980   \n",
       "...             ...        ...        ...  ...        ...        ...   \n",
       "4864281   -8.296620   7.662790   1.446540  ...  20.701300  14.450100   \n",
       "4865497  -13.697000  36.296200  12.736100  ...   6.933350  20.332199   \n",
       "4865857  -64.009300 -55.088402 -65.703003  ...  10.112800  16.328501   \n",
       "4866583  115.160004  43.365601   8.397570  ...   9.402900  20.033100   \n",
       "4866605  102.002998  22.175100   5.359660  ...   2.682030  10.990600   \n",
       "\n",
       "           eeg_poz      eeg_c3    eeg_cz     eeg_o2           ecg           r  \\\n",
       "36       12.678200   14.447000  10.85240  15.675700  -4520.000000  817.705994   \n",
       "52       -7.383270   -0.912276   3.56484  -9.385510 -18260.800780  665.002014   \n",
       "53       20.516800   17.092600  21.44940  20.340900  -4511.839844  817.687012   \n",
       "581      22.690001   13.416700  19.55530  40.707500  -4447.339844  817.411011   \n",
       "867      -2.688510   -6.150930 -76.18280   6.472630  -4418.729980  817.627991   \n",
       "...            ...         ...       ...        ...           ...         ...   \n",
       "4864281  14.471500    0.904007  11.12310  20.819799 -13691.400391  667.562012   \n",
       "4865497  16.555099  -10.424500   8.65020  12.235000  -8518.700195  782.656982   \n",
       "4865857  45.369701 -125.779999   1.54629   5.637940  -8381.230469  776.377991   \n",
       "4866583  12.887400   -7.214070   9.44225  18.185801 -13668.099609  667.705017   \n",
       "4866605  10.151400   -4.813710   6.43735  15.703300 -13670.000000  667.693970   \n",
       "\n",
       "                gsr  event  \n",
       "36       388.829987      A  \n",
       "52       823.356018      A  \n",
       "53       388.612000      A  \n",
       "581      384.744995      A  \n",
       "867      384.877014      A  \n",
       "...             ...    ...  \n",
       "4864281  547.919983      B  \n",
       "4865497  759.080994      B  \n",
       "4865857  731.145996      B  \n",
       "4866583  541.879028      B  \n",
       "4866605  541.929993      B  \n",
       "\n",
       "[15845 rows x 28 columns]"
      ]
     },
     "execution_count": 16,
     "metadata": {},
     "output_type": "execute_result"
    }
   ],
   "source": [
    "### checking for 0 values in the dataframe and there are a lot, what does that mean?\n",
    "df.loc[df[\"eeg_fp1\"] == 0]"
   ]
  },
  {
   "cell_type": "code",
   "execution_count": 17,
   "id": "16e3d84b-6ad7-4bed-8197-190d4b6cae07",
   "metadata": {},
   "outputs": [
    {
     "data": {
      "text/html": [
       "<div>\n",
       "<style scoped>\n",
       "    .dataframe tbody tr th:only-of-type {\n",
       "        vertical-align: middle;\n",
       "    }\n",
       "\n",
       "    .dataframe tbody tr th {\n",
       "        vertical-align: top;\n",
       "    }\n",
       "\n",
       "    .dataframe thead th {\n",
       "        text-align: right;\n",
       "    }\n",
       "</style>\n",
       "<table border=\"1\" class=\"dataframe\">\n",
       "  <thead>\n",
       "    <tr style=\"text-align: right;\">\n",
       "      <th></th>\n",
       "      <th>crew</th>\n",
       "      <th>experiment</th>\n",
       "      <th>time</th>\n",
       "      <th>seat</th>\n",
       "      <th>eeg_fp1</th>\n",
       "      <th>eeg_f7</th>\n",
       "      <th>eeg_f8</th>\n",
       "      <th>eeg_t4</th>\n",
       "      <th>eeg_t6</th>\n",
       "      <th>eeg_t5</th>\n",
       "      <th>...</th>\n",
       "      <th>eeg_c4</th>\n",
       "      <th>eeg_p4</th>\n",
       "      <th>eeg_poz</th>\n",
       "      <th>eeg_c3</th>\n",
       "      <th>eeg_cz</th>\n",
       "      <th>eeg_o2</th>\n",
       "      <th>ecg</th>\n",
       "      <th>r</th>\n",
       "      <th>gsr</th>\n",
       "      <th>event</th>\n",
       "    </tr>\n",
       "  </thead>\n",
       "  <tbody>\n",
       "    <tr>\n",
       "      <th>50</th>\n",
       "      <td>1</td>\n",
       "      <td>CA</td>\n",
       "      <td>0.195312</td>\n",
       "      <td>0</td>\n",
       "      <td>3.100600</td>\n",
       "      <td>0.0</td>\n",
       "      <td>8.118780</td>\n",
       "      <td>10.09110</td>\n",
       "      <td>4.783260</td>\n",
       "      <td>-14.553400</td>\n",
       "      <td>...</td>\n",
       "      <td>-5.505160</td>\n",
       "      <td>-4.917930</td>\n",
       "      <td>-10.377900</td>\n",
       "      <td>-0.696449</td>\n",
       "      <td>2.998400</td>\n",
       "      <td>-11.997400</td>\n",
       "      <td>-18260.800780</td>\n",
       "      <td>665.002014</td>\n",
       "      <td>823.356018</td>\n",
       "      <td>A</td>\n",
       "    </tr>\n",
       "    <tr>\n",
       "      <th>60</th>\n",
       "      <td>1</td>\n",
       "      <td>CA</td>\n",
       "      <td>0.214844</td>\n",
       "      <td>0</td>\n",
       "      <td>-3.170320</td>\n",
       "      <td>0.0</td>\n",
       "      <td>0.808147</td>\n",
       "      <td>3.65266</td>\n",
       "      <td>1.174990</td>\n",
       "      <td>-1.838420</td>\n",
       "      <td>...</td>\n",
       "      <td>7.191010</td>\n",
       "      <td>1.659600</td>\n",
       "      <td>-7.493740</td>\n",
       "      <td>-2.286660</td>\n",
       "      <td>1.699460</td>\n",
       "      <td>-5.134870</td>\n",
       "      <td>-18261.699220</td>\n",
       "      <td>665.091003</td>\n",
       "      <td>823.414978</td>\n",
       "      <td>A</td>\n",
       "    </tr>\n",
       "    <tr>\n",
       "      <th>448</th>\n",
       "      <td>1</td>\n",
       "      <td>CA</td>\n",
       "      <td>0.972656</td>\n",
       "      <td>0</td>\n",
       "      <td>5.182850</td>\n",
       "      <td>0.0</td>\n",
       "      <td>0.806099</td>\n",
       "      <td>-7.79653</td>\n",
       "      <td>4.993660</td>\n",
       "      <td>0.245706</td>\n",
       "      <td>...</td>\n",
       "      <td>-8.182560</td>\n",
       "      <td>-3.723430</td>\n",
       "      <td>-4.293240</td>\n",
       "      <td>-2.863590</td>\n",
       "      <td>-9.897460</td>\n",
       "      <td>4.177020</td>\n",
       "      <td>-18201.699220</td>\n",
       "      <td>666.164001</td>\n",
       "      <td>824.231995</td>\n",
       "      <td>A</td>\n",
       "    </tr>\n",
       "    <tr>\n",
       "      <th>534</th>\n",
       "      <td>1</td>\n",
       "      <td>CA</td>\n",
       "      <td>1.140625</td>\n",
       "      <td>0</td>\n",
       "      <td>1.856390</td>\n",
       "      <td>0.0</td>\n",
       "      <td>1.985320</td>\n",
       "      <td>1.49765</td>\n",
       "      <td>-5.415890</td>\n",
       "      <td>-3.726620</td>\n",
       "      <td>...</td>\n",
       "      <td>-13.662400</td>\n",
       "      <td>-3.376480</td>\n",
       "      <td>2.532650</td>\n",
       "      <td>5.302790</td>\n",
       "      <td>-0.995763</td>\n",
       "      <td>5.843320</td>\n",
       "      <td>-18226.500000</td>\n",
       "      <td>666.231995</td>\n",
       "      <td>824.383972</td>\n",
       "      <td>A</td>\n",
       "    </tr>\n",
       "    <tr>\n",
       "      <th>1044</th>\n",
       "      <td>1</td>\n",
       "      <td>CA</td>\n",
       "      <td>10.136719</td>\n",
       "      <td>0</td>\n",
       "      <td>2.743020</td>\n",
       "      <td>0.0</td>\n",
       "      <td>-8.342170</td>\n",
       "      <td>-7.26845</td>\n",
       "      <td>-0.355132</td>\n",
       "      <td>-0.759173</td>\n",
       "      <td>...</td>\n",
       "      <td>-7.627960</td>\n",
       "      <td>-2.992100</td>\n",
       "      <td>3.294130</td>\n",
       "      <td>-4.747730</td>\n",
       "      <td>-9.390480</td>\n",
       "      <td>4.828990</td>\n",
       "      <td>-18286.000000</td>\n",
       "      <td>666.184021</td>\n",
       "      <td>834.737976</td>\n",
       "      <td>C</td>\n",
       "    </tr>\n",
       "    <tr>\n",
       "      <th>...</th>\n",
       "      <td>...</td>\n",
       "      <td>...</td>\n",
       "      <td>...</td>\n",
       "      <td>...</td>\n",
       "      <td>...</td>\n",
       "      <td>...</td>\n",
       "      <td>...</td>\n",
       "      <td>...</td>\n",
       "      <td>...</td>\n",
       "      <td>...</td>\n",
       "      <td>...</td>\n",
       "      <td>...</td>\n",
       "      <td>...</td>\n",
       "      <td>...</td>\n",
       "      <td>...</td>\n",
       "      <td>...</td>\n",
       "      <td>...</td>\n",
       "      <td>...</td>\n",
       "      <td>...</td>\n",
       "      <td>...</td>\n",
       "      <td>...</td>\n",
       "    </tr>\n",
       "    <tr>\n",
       "      <th>4864882</th>\n",
       "      <td>13</td>\n",
       "      <td>SS</td>\n",
       "      <td>95.049004</td>\n",
       "      <td>0</td>\n",
       "      <td>8.772190</td>\n",
       "      <td>0.0</td>\n",
       "      <td>-3.915010</td>\n",
       "      <td>-1.93460</td>\n",
       "      <td>45.291000</td>\n",
       "      <td>12.811000</td>\n",
       "      <td>...</td>\n",
       "      <td>120.665001</td>\n",
       "      <td>51.585800</td>\n",
       "      <td>31.379000</td>\n",
       "      <td>24.612499</td>\n",
       "      <td>29.375999</td>\n",
       "      <td>31.835199</td>\n",
       "      <td>-13627.799805</td>\n",
       "      <td>667.135010</td>\n",
       "      <td>542.922974</td>\n",
       "      <td>B</td>\n",
       "    </tr>\n",
       "    <tr>\n",
       "      <th>4865171</th>\n",
       "      <td>13</td>\n",
       "      <td>SS</td>\n",
       "      <td>95.625008</td>\n",
       "      <td>1</td>\n",
       "      <td>47.443501</td>\n",
       "      <td>0.0</td>\n",
       "      <td>-6.880550</td>\n",
       "      <td>-15.05250</td>\n",
       "      <td>74.120003</td>\n",
       "      <td>8.619330</td>\n",
       "      <td>...</td>\n",
       "      <td>-2.796980</td>\n",
       "      <td>-34.031399</td>\n",
       "      <td>-35.197201</td>\n",
       "      <td>-18.883900</td>\n",
       "      <td>-9.279780</td>\n",
       "      <td>-12.072900</td>\n",
       "      <td>-8808.650391</td>\n",
       "      <td>791.080994</td>\n",
       "      <td>799.802002</td>\n",
       "      <td>B</td>\n",
       "    </tr>\n",
       "    <tr>\n",
       "      <th>4866280</th>\n",
       "      <td>13</td>\n",
       "      <td>SS</td>\n",
       "      <td>97.806007</td>\n",
       "      <td>0</td>\n",
       "      <td>-57.420898</td>\n",
       "      <td>0.0</td>\n",
       "      <td>-71.304100</td>\n",
       "      <td>-30.09560</td>\n",
       "      <td>-1.286380</td>\n",
       "      <td>-24.230101</td>\n",
       "      <td>...</td>\n",
       "      <td>-70.597000</td>\n",
       "      <td>-25.167200</td>\n",
       "      <td>-17.213301</td>\n",
       "      <td>-11.750900</td>\n",
       "      <td>-35.220001</td>\n",
       "      <td>-16.373199</td>\n",
       "      <td>-13644.000000</td>\n",
       "      <td>666.700012</td>\n",
       "      <td>540.929016</td>\n",
       "      <td>B</td>\n",
       "    </tr>\n",
       "    <tr>\n",
       "      <th>4866422</th>\n",
       "      <td>13</td>\n",
       "      <td>SS</td>\n",
       "      <td>98.076004</td>\n",
       "      <td>0</td>\n",
       "      <td>-79.957901</td>\n",
       "      <td>0.0</td>\n",
       "      <td>-7.809270</td>\n",
       "      <td>-10.79360</td>\n",
       "      <td>-27.986200</td>\n",
       "      <td>-8.365670</td>\n",
       "      <td>...</td>\n",
       "      <td>-29.344900</td>\n",
       "      <td>-35.005100</td>\n",
       "      <td>-26.598499</td>\n",
       "      <td>-11.919100</td>\n",
       "      <td>-44.707901</td>\n",
       "      <td>-23.153500</td>\n",
       "      <td>-13656.799805</td>\n",
       "      <td>667.098022</td>\n",
       "      <td>541.349976</td>\n",
       "      <td>B</td>\n",
       "    </tr>\n",
       "    <tr>\n",
       "      <th>4866484</th>\n",
       "      <td>13</td>\n",
       "      <td>SS</td>\n",
       "      <td>98.183006</td>\n",
       "      <td>0</td>\n",
       "      <td>-50.194401</td>\n",
       "      <td>0.0</td>\n",
       "      <td>9.058760</td>\n",
       "      <td>34.38390</td>\n",
       "      <td>-39.545502</td>\n",
       "      <td>-16.441200</td>\n",
       "      <td>...</td>\n",
       "      <td>-27.618200</td>\n",
       "      <td>-27.299000</td>\n",
       "      <td>-21.061001</td>\n",
       "      <td>-26.344500</td>\n",
       "      <td>-37.311401</td>\n",
       "      <td>-18.045601</td>\n",
       "      <td>-13618.000000</td>\n",
       "      <td>667.236023</td>\n",
       "      <td>541.442993</td>\n",
       "      <td>B</td>\n",
       "    </tr>\n",
       "  </tbody>\n",
       "</table>\n",
       "<p>16329 rows × 28 columns</p>\n",
       "</div>"
      ],
      "text/plain": [
       "         crew experiment       time  seat    eeg_fp1  eeg_f7     eeg_f8  \\\n",
       "50          1         CA   0.195312     0   3.100600     0.0   8.118780   \n",
       "60          1         CA   0.214844     0  -3.170320     0.0   0.808147   \n",
       "448         1         CA   0.972656     0   5.182850     0.0   0.806099   \n",
       "534         1         CA   1.140625     0   1.856390     0.0   1.985320   \n",
       "1044        1         CA  10.136719     0   2.743020     0.0  -8.342170   \n",
       "...       ...        ...        ...   ...        ...     ...        ...   \n",
       "4864882    13         SS  95.049004     0   8.772190     0.0  -3.915010   \n",
       "4865171    13         SS  95.625008     1  47.443501     0.0  -6.880550   \n",
       "4866280    13         SS  97.806007     0 -57.420898     0.0 -71.304100   \n",
       "4866422    13         SS  98.076004     0 -79.957901     0.0  -7.809270   \n",
       "4866484    13         SS  98.183006     0 -50.194401     0.0   9.058760   \n",
       "\n",
       "           eeg_t4     eeg_t6     eeg_t5  ...      eeg_c4     eeg_p4  \\\n",
       "50       10.09110   4.783260 -14.553400  ...   -5.505160  -4.917930   \n",
       "60        3.65266   1.174990  -1.838420  ...    7.191010   1.659600   \n",
       "448      -7.79653   4.993660   0.245706  ...   -8.182560  -3.723430   \n",
       "534       1.49765  -5.415890  -3.726620  ...  -13.662400  -3.376480   \n",
       "1044     -7.26845  -0.355132  -0.759173  ...   -7.627960  -2.992100   \n",
       "...           ...        ...        ...  ...         ...        ...   \n",
       "4864882  -1.93460  45.291000  12.811000  ...  120.665001  51.585800   \n",
       "4865171 -15.05250  74.120003   8.619330  ...   -2.796980 -34.031399   \n",
       "4866280 -30.09560  -1.286380 -24.230101  ...  -70.597000 -25.167200   \n",
       "4866422 -10.79360 -27.986200  -8.365670  ...  -29.344900 -35.005100   \n",
       "4866484  34.38390 -39.545502 -16.441200  ...  -27.618200 -27.299000   \n",
       "\n",
       "           eeg_poz     eeg_c3     eeg_cz     eeg_o2           ecg           r  \\\n",
       "50      -10.377900  -0.696449   2.998400 -11.997400 -18260.800780  665.002014   \n",
       "60       -7.493740  -2.286660   1.699460  -5.134870 -18261.699220  665.091003   \n",
       "448      -4.293240  -2.863590  -9.897460   4.177020 -18201.699220  666.164001   \n",
       "534       2.532650   5.302790  -0.995763   5.843320 -18226.500000  666.231995   \n",
       "1044      3.294130  -4.747730  -9.390480   4.828990 -18286.000000  666.184021   \n",
       "...            ...        ...        ...        ...           ...         ...   \n",
       "4864882  31.379000  24.612499  29.375999  31.835199 -13627.799805  667.135010   \n",
       "4865171 -35.197201 -18.883900  -9.279780 -12.072900  -8808.650391  791.080994   \n",
       "4866280 -17.213301 -11.750900 -35.220001 -16.373199 -13644.000000  666.700012   \n",
       "4866422 -26.598499 -11.919100 -44.707901 -23.153500 -13656.799805  667.098022   \n",
       "4866484 -21.061001 -26.344500 -37.311401 -18.045601 -13618.000000  667.236023   \n",
       "\n",
       "                gsr  event  \n",
       "50       823.356018      A  \n",
       "60       823.414978      A  \n",
       "448      824.231995      A  \n",
       "534      824.383972      A  \n",
       "1044     834.737976      C  \n",
       "...             ...    ...  \n",
       "4864882  542.922974      B  \n",
       "4865171  799.802002      B  \n",
       "4866280  540.929016      B  \n",
       "4866422  541.349976      B  \n",
       "4866484  541.442993      B  \n",
       "\n",
       "[16329 rows x 28 columns]"
      ]
     },
     "execution_count": 17,
     "metadata": {},
     "output_type": "execute_result"
    }
   ],
   "source": [
    "### checking for 0's in f7\n",
    "df.loc[df[\"eeg_f7\"] == 0]"
   ]
  },
  {
   "cell_type": "markdown",
   "id": "e1949998-09cc-4370-8b81-cdacc7550b71",
   "metadata": {},
   "source": [
    "Steps:\n",
    "- make graphs (EDA)\n",
    "- check zeroes?\n",
    "- normalize\n",
    "- concat, sample, and then split\n",
    "- split the data into training and test set\n",
    "- create models"
   ]
  },
  {
   "cell_type": "code",
   "execution_count": null,
   "id": "3fcc81df-b238-43ba-abef-eaa99f9dd730",
   "metadata": {
    "tags": []
   },
   "outputs": [],
   "source": [
    "### wanted to create a pairplot but took way too much time so did not end up doing it.\n",
    "# sns.pairplot(df)"
   ]
  },
  {
   "cell_type": "code",
   "execution_count": 3,
   "id": "5d5b47ee-1c62-415a-b0a5-bbd29a9536a4",
   "metadata": {
    "tags": []
   },
   "outputs": [],
   "source": [
    "### getting dummies for the column event.\n",
    "# y_df = pd.get_dummies(df[\"experiment\"])\n",
    "event_df = pd.get_dummies(df[\"event\"])"
   ]
  },
  {
   "cell_type": "code",
   "execution_count": 7,
   "id": "5b354b10-616e-408d-9728-b3f12e0e742d",
   "metadata": {},
   "outputs": [],
   "source": [
    "### skratch work\n",
    "# y = df[\"experiment\"]\n",
    "# df = df.drop(['event'], axis=1)\n",
    "# df = df.drop(columns = [\"experiment\", \"event\"], axis=1)\n",
    "# df = pd.concat([df, event_df], axis=1)\n",
    "# df.head()"
   ]
  },
  {
   "cell_type": "code",
   "execution_count": 8,
   "id": "83e420ce-9d25-411e-8830-53e04ae47984",
   "metadata": {
    "tags": []
   },
   "outputs": [],
   "source": [
    "### trying to concatenate the df and the target values to then sample accordingly.\n",
    "# df = pd.concat([df, y_df], axis=1)\n",
    "\n",
    "### sample to use a smaller portion of data points in our model\n",
    "from sklearn.preprocessing import normalize\n",
    "sample1 = df.sample(frac=0.001, random_state=42)\n",
    "sample1\n",
    "\n",
    "### set y dummies but you should not do that, just rename experiment values to numeric values such as 1-3 for categorical data.\n",
    "sample1_y = pd.get_dummies(sample1[\"experiment\"])\n",
    "### one-hot encoding for the column event\n",
    "sample1_event = pd.get_dummies(sample1[\"event\"])\n",
    "### dropping experiment and event columns, so removing the columns from the dataframe\n",
    "sample1 = sample1.drop(['experiment', 'event'], axis=1)\n",
    "### adding back in the columns that we encoded up above back into the dataframe.\n",
    "sample1 = pd.concat([sample1, sample1_event], axis=1)\n",
    "### normalizing to make sure that the values make sense and there is no outliers that skew the data too much.\n",
    "sample1 = normalize(sample1)\n",
    "\n",
    "### split the data into training and test set.\n",
    "X_train, X_test, y_train, y_test = train_test_split(sample1, sample1_y[\"CA\"], test_size = 0.2, random_state=42)"
   ]
  },
  {
   "cell_type": "code",
   "execution_count": 9,
   "id": "057f1648-ed02-4b7c-8a3c-a22546c270be",
   "metadata": {
    "tags": []
   },
   "outputs": [],
   "source": [
    "### making sure that our train_test_split function worked well by printing out some of the variables.\n",
    "# X_train"
   ]
  },
  {
   "cell_type": "code",
   "execution_count": 10,
   "id": "8e4d75d1-b241-4d85-af86-a52104516cc9",
   "metadata": {},
   "outputs": [],
   "source": [
    "### creating a LinearRegression model\n",
    "# This is our first model and most simple model but since we are working with categorical data, we cannot use regression, \n",
    "#  so basically this is a bad idea.\n",
    "model = LinearRegression()"
   ]
  },
  {
   "cell_type": "code",
   "execution_count": 11,
   "id": "c2201213-7973-440e-b11e-2964cc52a5bf",
   "metadata": {},
   "outputs": [
    {
     "data": {
      "text/html": [
       "<style>#sk-container-id-1 {color: black;background-color: white;}#sk-container-id-1 pre{padding: 0;}#sk-container-id-1 div.sk-toggleable {background-color: white;}#sk-container-id-1 label.sk-toggleable__label {cursor: pointer;display: block;width: 100%;margin-bottom: 0;padding: 0.3em;box-sizing: border-box;text-align: center;}#sk-container-id-1 label.sk-toggleable__label-arrow:before {content: \"▸\";float: left;margin-right: 0.25em;color: #696969;}#sk-container-id-1 label.sk-toggleable__label-arrow:hover:before {color: black;}#sk-container-id-1 div.sk-estimator:hover label.sk-toggleable__label-arrow:before {color: black;}#sk-container-id-1 div.sk-toggleable__content {max-height: 0;max-width: 0;overflow: hidden;text-align: left;background-color: #f0f8ff;}#sk-container-id-1 div.sk-toggleable__content pre {margin: 0.2em;color: black;border-radius: 0.25em;background-color: #f0f8ff;}#sk-container-id-1 input.sk-toggleable__control:checked~div.sk-toggleable__content {max-height: 200px;max-width: 100%;overflow: auto;}#sk-container-id-1 input.sk-toggleable__control:checked~label.sk-toggleable__label-arrow:before {content: \"▾\";}#sk-container-id-1 div.sk-estimator input.sk-toggleable__control:checked~label.sk-toggleable__label {background-color: #d4ebff;}#sk-container-id-1 div.sk-label input.sk-toggleable__control:checked~label.sk-toggleable__label {background-color: #d4ebff;}#sk-container-id-1 input.sk-hidden--visually {border: 0;clip: rect(1px 1px 1px 1px);clip: rect(1px, 1px, 1px, 1px);height: 1px;margin: -1px;overflow: hidden;padding: 0;position: absolute;width: 1px;}#sk-container-id-1 div.sk-estimator {font-family: monospace;background-color: #f0f8ff;border: 1px dotted black;border-radius: 0.25em;box-sizing: border-box;margin-bottom: 0.5em;}#sk-container-id-1 div.sk-estimator:hover {background-color: #d4ebff;}#sk-container-id-1 div.sk-parallel-item::after {content: \"\";width: 100%;border-bottom: 1px solid gray;flex-grow: 1;}#sk-container-id-1 div.sk-label:hover label.sk-toggleable__label {background-color: #d4ebff;}#sk-container-id-1 div.sk-serial::before {content: \"\";position: absolute;border-left: 1px solid gray;box-sizing: border-box;top: 0;bottom: 0;left: 50%;z-index: 0;}#sk-container-id-1 div.sk-serial {display: flex;flex-direction: column;align-items: center;background-color: white;padding-right: 0.2em;padding-left: 0.2em;position: relative;}#sk-container-id-1 div.sk-item {position: relative;z-index: 1;}#sk-container-id-1 div.sk-parallel {display: flex;align-items: stretch;justify-content: center;background-color: white;position: relative;}#sk-container-id-1 div.sk-item::before, #sk-container-id-1 div.sk-parallel-item::before {content: \"\";position: absolute;border-left: 1px solid gray;box-sizing: border-box;top: 0;bottom: 0;left: 50%;z-index: -1;}#sk-container-id-1 div.sk-parallel-item {display: flex;flex-direction: column;z-index: 1;position: relative;background-color: white;}#sk-container-id-1 div.sk-parallel-item:first-child::after {align-self: flex-end;width: 50%;}#sk-container-id-1 div.sk-parallel-item:last-child::after {align-self: flex-start;width: 50%;}#sk-container-id-1 div.sk-parallel-item:only-child::after {width: 0;}#sk-container-id-1 div.sk-dashed-wrapped {border: 1px dashed gray;margin: 0 0.4em 0.5em 0.4em;box-sizing: border-box;padding-bottom: 0.4em;background-color: white;}#sk-container-id-1 div.sk-label label {font-family: monospace;font-weight: bold;display: inline-block;line-height: 1.2em;}#sk-container-id-1 div.sk-label-container {text-align: center;}#sk-container-id-1 div.sk-container {/* jupyter's `normalize.less` sets `[hidden] { display: none; }` but bootstrap.min.css set `[hidden] { display: none !important; }` so we also need the `!important` here to be able to override the default hidden behavior on the sphinx rendered scikit-learn.org. See: https://github.com/scikit-learn/scikit-learn/issues/21755 */display: inline-block !important;position: relative;}#sk-container-id-1 div.sk-text-repr-fallback {display: none;}</style><div id=\"sk-container-id-1\" class=\"sk-top-container\"><div class=\"sk-text-repr-fallback\"><pre>LinearRegression()</pre><b>In a Jupyter environment, please rerun this cell to show the HTML representation or trust the notebook. <br />On GitHub, the HTML representation is unable to render, please try loading this page with nbviewer.org.</b></div><div class=\"sk-container\" hidden><div class=\"sk-item\"><div class=\"sk-estimator sk-toggleable\"><input class=\"sk-toggleable__control sk-hidden--visually\" id=\"sk-estimator-id-1\" type=\"checkbox\" checked><label for=\"sk-estimator-id-1\" class=\"sk-toggleable__label sk-toggleable__label-arrow\">LinearRegression</label><div class=\"sk-toggleable__content\"><pre>LinearRegression()</pre></div></div></div></div></div>"
      ],
      "text/plain": [
       "LinearRegression()"
      ]
     },
     "execution_count": 11,
     "metadata": {},
     "output_type": "execute_result"
    }
   ],
   "source": [
    "### fitting the linear model\n",
    "model.fit(X_train, y_train)"
   ]
  },
  {
   "cell_type": "code",
   "execution_count": 12,
   "id": "7746446c-edf9-4fd5-ac6d-1f8b6602bf3a",
   "metadata": {},
   "outputs": [
    {
     "data": {
      "text/plain": [
       "0.510073048924947"
      ]
     },
     "execution_count": 12,
     "metadata": {},
     "output_type": "execute_result"
    }
   ],
   "source": [
    "### using X_test to predict our model\n",
    "y_pred = model.predict(X_test)\n",
    "y_pred\n",
    "# model.intercept_\n",
    "# model.coef_\n",
    "\n",
    "\n",
    "# calculate accuracy\n",
    "# accuracy_score(y_test,y_pred)\n",
    "r2_score(y_test,y_pred)"
   ]
  },
  {
   "cell_type": "code",
   "execution_count": 30,
   "id": "a68bda47-f009-49d9-88af-ff738e7e82d1",
   "metadata": {},
   "outputs": [],
   "source": [
    "### creating a second model, logistical regression\n",
    "model2 = LogisticRegression()"
   ]
  },
  {
   "cell_type": "code",
   "execution_count": 31,
   "id": "0b2092af-f9d0-49c7-ae75-55803f70e6a6",
   "metadata": {
    "tags": []
   },
   "outputs": [
    {
     "data": {
      "text/html": [
       "<style>#sk-container-id-3 {color: black;background-color: white;}#sk-container-id-3 pre{padding: 0;}#sk-container-id-3 div.sk-toggleable {background-color: white;}#sk-container-id-3 label.sk-toggleable__label {cursor: pointer;display: block;width: 100%;margin-bottom: 0;padding: 0.3em;box-sizing: border-box;text-align: center;}#sk-container-id-3 label.sk-toggleable__label-arrow:before {content: \"▸\";float: left;margin-right: 0.25em;color: #696969;}#sk-container-id-3 label.sk-toggleable__label-arrow:hover:before {color: black;}#sk-container-id-3 div.sk-estimator:hover label.sk-toggleable__label-arrow:before {color: black;}#sk-container-id-3 div.sk-toggleable__content {max-height: 0;max-width: 0;overflow: hidden;text-align: left;background-color: #f0f8ff;}#sk-container-id-3 div.sk-toggleable__content pre {margin: 0.2em;color: black;border-radius: 0.25em;background-color: #f0f8ff;}#sk-container-id-3 input.sk-toggleable__control:checked~div.sk-toggleable__content {max-height: 200px;max-width: 100%;overflow: auto;}#sk-container-id-3 input.sk-toggleable__control:checked~label.sk-toggleable__label-arrow:before {content: \"▾\";}#sk-container-id-3 div.sk-estimator input.sk-toggleable__control:checked~label.sk-toggleable__label {background-color: #d4ebff;}#sk-container-id-3 div.sk-label input.sk-toggleable__control:checked~label.sk-toggleable__label {background-color: #d4ebff;}#sk-container-id-3 input.sk-hidden--visually {border: 0;clip: rect(1px 1px 1px 1px);clip: rect(1px, 1px, 1px, 1px);height: 1px;margin: -1px;overflow: hidden;padding: 0;position: absolute;width: 1px;}#sk-container-id-3 div.sk-estimator {font-family: monospace;background-color: #f0f8ff;border: 1px dotted black;border-radius: 0.25em;box-sizing: border-box;margin-bottom: 0.5em;}#sk-container-id-3 div.sk-estimator:hover {background-color: #d4ebff;}#sk-container-id-3 div.sk-parallel-item::after {content: \"\";width: 100%;border-bottom: 1px solid gray;flex-grow: 1;}#sk-container-id-3 div.sk-label:hover label.sk-toggleable__label {background-color: #d4ebff;}#sk-container-id-3 div.sk-serial::before {content: \"\";position: absolute;border-left: 1px solid gray;box-sizing: border-box;top: 0;bottom: 0;left: 50%;z-index: 0;}#sk-container-id-3 div.sk-serial {display: flex;flex-direction: column;align-items: center;background-color: white;padding-right: 0.2em;padding-left: 0.2em;position: relative;}#sk-container-id-3 div.sk-item {position: relative;z-index: 1;}#sk-container-id-3 div.sk-parallel {display: flex;align-items: stretch;justify-content: center;background-color: white;position: relative;}#sk-container-id-3 div.sk-item::before, #sk-container-id-3 div.sk-parallel-item::before {content: \"\";position: absolute;border-left: 1px solid gray;box-sizing: border-box;top: 0;bottom: 0;left: 50%;z-index: -1;}#sk-container-id-3 div.sk-parallel-item {display: flex;flex-direction: column;z-index: 1;position: relative;background-color: white;}#sk-container-id-3 div.sk-parallel-item:first-child::after {align-self: flex-end;width: 50%;}#sk-container-id-3 div.sk-parallel-item:last-child::after {align-self: flex-start;width: 50%;}#sk-container-id-3 div.sk-parallel-item:only-child::after {width: 0;}#sk-container-id-3 div.sk-dashed-wrapped {border: 1px dashed gray;margin: 0 0.4em 0.5em 0.4em;box-sizing: border-box;padding-bottom: 0.4em;background-color: white;}#sk-container-id-3 div.sk-label label {font-family: monospace;font-weight: bold;display: inline-block;line-height: 1.2em;}#sk-container-id-3 div.sk-label-container {text-align: center;}#sk-container-id-3 div.sk-container {/* jupyter's `normalize.less` sets `[hidden] { display: none; }` but bootstrap.min.css set `[hidden] { display: none !important; }` so we also need the `!important` here to be able to override the default hidden behavior on the sphinx rendered scikit-learn.org. See: https://github.com/scikit-learn/scikit-learn/issues/21755 */display: inline-block !important;position: relative;}#sk-container-id-3 div.sk-text-repr-fallback {display: none;}</style><div id=\"sk-container-id-3\" class=\"sk-top-container\"><div class=\"sk-text-repr-fallback\"><pre>LogisticRegression()</pre><b>In a Jupyter environment, please rerun this cell to show the HTML representation or trust the notebook. <br />On GitHub, the HTML representation is unable to render, please try loading this page with nbviewer.org.</b></div><div class=\"sk-container\" hidden><div class=\"sk-item\"><div class=\"sk-estimator sk-toggleable\"><input class=\"sk-toggleable__control sk-hidden--visually\" id=\"sk-estimator-id-3\" type=\"checkbox\" checked><label for=\"sk-estimator-id-3\" class=\"sk-toggleable__label sk-toggleable__label-arrow\">LogisticRegression</label><div class=\"sk-toggleable__content\"><pre>LogisticRegression()</pre></div></div></div></div></div>"
      ],
      "text/plain": [
       "LogisticRegression()"
      ]
     },
     "execution_count": 31,
     "metadata": {},
     "output_type": "execute_result"
    }
   ],
   "source": [
    "### fitting our second model to the data\n",
    "model2.fit(X_train,y_train)"
   ]
  },
  {
   "cell_type": "code",
   "execution_count": 36,
   "id": "b4065c39-b574-4d3b-a0aa-5bed5cf7cd79",
   "metadata": {
    "tags": []
   },
   "outputs": [
    {
     "data": {
      "text/plain": [
       "-0.5387045813586102"
      ]
     },
     "execution_count": 36,
     "metadata": {},
     "output_type": "execute_result"
    }
   ],
   "source": [
    "### using X_test to get a prediction out of this second model.\n",
    "y_pred = model2.predict(X_test)\n",
    "y_pred\n",
    "\n",
    "### finding the accuracy score\n",
    "accuracy_score(y_test, y_pred)\n",
    "r2_score(y_test, y_pred)"
   ]
  },
  {
   "cell_type": "code",
   "execution_count": 37,
   "id": "3d510497-2e18-4feb-bff8-db60256f973e",
   "metadata": {
    "tags": []
   },
   "outputs": [],
   "source": [
    "### creating a third model, RandomForestRegressor\n",
    "model3 = RandomForestRegressor()"
   ]
  },
  {
   "cell_type": "code",
   "execution_count": 38,
   "id": "8c91c8e7-59eb-44b0-9bea-a5a965a679aa",
   "metadata": {
    "tags": []
   },
   "outputs": [
    {
     "data": {
      "text/html": [
       "<style>#sk-container-id-4 {color: black;background-color: white;}#sk-container-id-4 pre{padding: 0;}#sk-container-id-4 div.sk-toggleable {background-color: white;}#sk-container-id-4 label.sk-toggleable__label {cursor: pointer;display: block;width: 100%;margin-bottom: 0;padding: 0.3em;box-sizing: border-box;text-align: center;}#sk-container-id-4 label.sk-toggleable__label-arrow:before {content: \"▸\";float: left;margin-right: 0.25em;color: #696969;}#sk-container-id-4 label.sk-toggleable__label-arrow:hover:before {color: black;}#sk-container-id-4 div.sk-estimator:hover label.sk-toggleable__label-arrow:before {color: black;}#sk-container-id-4 div.sk-toggleable__content {max-height: 0;max-width: 0;overflow: hidden;text-align: left;background-color: #f0f8ff;}#sk-container-id-4 div.sk-toggleable__content pre {margin: 0.2em;color: black;border-radius: 0.25em;background-color: #f0f8ff;}#sk-container-id-4 input.sk-toggleable__control:checked~div.sk-toggleable__content {max-height: 200px;max-width: 100%;overflow: auto;}#sk-container-id-4 input.sk-toggleable__control:checked~label.sk-toggleable__label-arrow:before {content: \"▾\";}#sk-container-id-4 div.sk-estimator input.sk-toggleable__control:checked~label.sk-toggleable__label {background-color: #d4ebff;}#sk-container-id-4 div.sk-label input.sk-toggleable__control:checked~label.sk-toggleable__label {background-color: #d4ebff;}#sk-container-id-4 input.sk-hidden--visually {border: 0;clip: rect(1px 1px 1px 1px);clip: rect(1px, 1px, 1px, 1px);height: 1px;margin: -1px;overflow: hidden;padding: 0;position: absolute;width: 1px;}#sk-container-id-4 div.sk-estimator {font-family: monospace;background-color: #f0f8ff;border: 1px dotted black;border-radius: 0.25em;box-sizing: border-box;margin-bottom: 0.5em;}#sk-container-id-4 div.sk-estimator:hover {background-color: #d4ebff;}#sk-container-id-4 div.sk-parallel-item::after {content: \"\";width: 100%;border-bottom: 1px solid gray;flex-grow: 1;}#sk-container-id-4 div.sk-label:hover label.sk-toggleable__label {background-color: #d4ebff;}#sk-container-id-4 div.sk-serial::before {content: \"\";position: absolute;border-left: 1px solid gray;box-sizing: border-box;top: 0;bottom: 0;left: 50%;z-index: 0;}#sk-container-id-4 div.sk-serial {display: flex;flex-direction: column;align-items: center;background-color: white;padding-right: 0.2em;padding-left: 0.2em;position: relative;}#sk-container-id-4 div.sk-item {position: relative;z-index: 1;}#sk-container-id-4 div.sk-parallel {display: flex;align-items: stretch;justify-content: center;background-color: white;position: relative;}#sk-container-id-4 div.sk-item::before, #sk-container-id-4 div.sk-parallel-item::before {content: \"\";position: absolute;border-left: 1px solid gray;box-sizing: border-box;top: 0;bottom: 0;left: 50%;z-index: -1;}#sk-container-id-4 div.sk-parallel-item {display: flex;flex-direction: column;z-index: 1;position: relative;background-color: white;}#sk-container-id-4 div.sk-parallel-item:first-child::after {align-self: flex-end;width: 50%;}#sk-container-id-4 div.sk-parallel-item:last-child::after {align-self: flex-start;width: 50%;}#sk-container-id-4 div.sk-parallel-item:only-child::after {width: 0;}#sk-container-id-4 div.sk-dashed-wrapped {border: 1px dashed gray;margin: 0 0.4em 0.5em 0.4em;box-sizing: border-box;padding-bottom: 0.4em;background-color: white;}#sk-container-id-4 div.sk-label label {font-family: monospace;font-weight: bold;display: inline-block;line-height: 1.2em;}#sk-container-id-4 div.sk-label-container {text-align: center;}#sk-container-id-4 div.sk-container {/* jupyter's `normalize.less` sets `[hidden] { display: none; }` but bootstrap.min.css set `[hidden] { display: none !important; }` so we also need the `!important` here to be able to override the default hidden behavior on the sphinx rendered scikit-learn.org. See: https://github.com/scikit-learn/scikit-learn/issues/21755 */display: inline-block !important;position: relative;}#sk-container-id-4 div.sk-text-repr-fallback {display: none;}</style><div id=\"sk-container-id-4\" class=\"sk-top-container\"><div class=\"sk-text-repr-fallback\"><pre>RandomForestRegressor()</pre><b>In a Jupyter environment, please rerun this cell to show the HTML representation or trust the notebook. <br />On GitHub, the HTML representation is unable to render, please try loading this page with nbviewer.org.</b></div><div class=\"sk-container\" hidden><div class=\"sk-item\"><div class=\"sk-estimator sk-toggleable\"><input class=\"sk-toggleable__control sk-hidden--visually\" id=\"sk-estimator-id-4\" type=\"checkbox\" checked><label for=\"sk-estimator-id-4\" class=\"sk-toggleable__label sk-toggleable__label-arrow\">RandomForestRegressor</label><div class=\"sk-toggleable__content\"><pre>RandomForestRegressor()</pre></div></div></div></div></div>"
      ],
      "text/plain": [
       "RandomForestRegressor()"
      ]
     },
     "execution_count": 38,
     "metadata": {},
     "output_type": "execute_result"
    }
   ],
   "source": [
    "### fitting the training data to the third model\n",
    "model3.fit(X_train, y_train)"
   ]
  },
  {
   "cell_type": "code",
   "execution_count": 47,
   "id": "4089339e-f493-4c3d-ac82-b40e140c434f",
   "metadata": {
    "tags": []
   },
   "outputs": [
    {
     "data": {
      "text/plain": [
       "array([0., 0., 0., 0., 0., 1., 1., 0., 1., 1., 1., 0., 1., 1., 1., 0., 0.,\n",
       "       0., 0., 0., 1., 0., 0., 0., 0., 1., 0., 0., 1., 0., 0., 0., 0., 0.,\n",
       "       0., 1., 0., 0., 1., 0., 1., 1., 0., 0., 1., 1., 0., 1., 0., 0., 1.,\n",
       "       0., 1., 0., 1., 0., 1., 1., 1., 0., 0., 0., 1., 0., 0., 0., 1., 0.,\n",
       "       0., 0., 0., 0., 1., 0., 0., 1., 0., 0., 0., 0., 0., 1., 0., 0., 0.,\n",
       "       1., 0., 0., 1., 1., 0., 0., 0., 0., 0., 0., 1., 0., 1., 0., 0., 0.,\n",
       "       0., 0., 1., 0., 0., 1., 0., 0., 0., 0., 1., 1., 0., 0., 1., 0., 1.,\n",
       "       0., 1., 0., 0., 1., 0., 0., 0., 0., 1., 1., 0., 1., 0., 1., 1., 0.,\n",
       "       0., 0., 0., 0., 1., 1., 0., 0., 1., 1., 0., 1., 1., 1., 0., 0., 0.,\n",
       "       1., 0., 0., 1., 1., 0., 0., 1., 0., 1., 1., 0., 0., 0., 0., 0., 0.,\n",
       "       0., 0., 0., 1., 0., 1., 1., 1., 0., 0., 0., 1., 0., 0., 1., 0., 1.,\n",
       "       0., 1., 1., 0., 1., 0., 0., 0., 0., 0., 1., 0., 1., 0., 0., 1., 0.,\n",
       "       0., 0., 0., 0., 0., 0., 0., 0., 0., 0., 0., 1., 0., 0., 0., 0., 0.,\n",
       "       0., 0., 1., 0., 0., 0., 1., 0., 1., 1., 0., 1., 0., 0., 0., 1., 1.,\n",
       "       0., 0., 0., 0., 0., 0., 0., 1., 1., 0., 1., 0., 0., 1., 0., 0., 0.,\n",
       "       0., 1., 0., 0., 0., 0., 1., 0., 1., 0., 1., 0., 0., 0., 0., 0., 0.,\n",
       "       1., 0., 1., 0., 0., 0., 0., 0., 1., 0., 0., 0., 0., 0., 0., 0., 0.,\n",
       "       0., 0., 0., 1., 0., 1., 0., 0., 0., 0., 0., 0., 0., 1., 1., 1., 1.,\n",
       "       1., 0., 0., 1., 0., 1., 0., 1., 0., 0., 1., 0., 0., 0., 0., 0., 0.,\n",
       "       1., 0., 0., 1., 0., 1., 1., 0., 0., 0., 1., 1., 1., 1., 1., 1., 1.,\n",
       "       1., 1., 0., 0., 0., 1., 1., 0., 1., 0., 0., 1., 1., 0., 1., 1., 0.,\n",
       "       0., 0., 0., 0., 1., 0., 0., 0., 0., 0., 1., 1., 1., 1., 0., 0., 0.,\n",
       "       0., 1., 1., 0., 1., 1., 0., 0., 0., 0., 0., 0., 0., 0., 1., 1., 1.,\n",
       "       0., 0., 0., 1., 0., 0., 0., 0., 0., 1., 1., 1., 0., 1., 0., 0., 0.,\n",
       "       0., 0., 0., 0., 0., 0., 0., 1., 0., 0., 1., 0., 0., 1., 0., 1., 0.,\n",
       "       0., 0., 1., 1., 0., 0., 1., 0., 1., 1., 0., 0., 0., 0., 1., 0., 0.,\n",
       "       1., 1., 1., 0., 0., 1., 0., 1., 1., 1., 1., 0., 0., 0., 1., 0., 1.,\n",
       "       0., 0., 0., 0., 0., 1., 1., 0., 0., 0., 1., 0., 0., 1., 0., 1., 0.,\n",
       "       0., 0., 1., 1., 1., 0., 0., 0., 0., 0., 1., 1., 1., 0., 0., 0., 0.,\n",
       "       0., 0., 0., 0., 0., 1., 0., 0., 1., 1., 0., 1., 0., 0., 0., 1., 0.,\n",
       "       1., 0., 1., 0., 1., 0., 0., 0., 0., 0., 1., 1., 0., 1., 1., 0., 0.,\n",
       "       1., 0., 1., 1., 0., 0., 0., 0., 1., 0., 0., 0., 1., 1., 1., 0., 0.,\n",
       "       0., 0., 0., 1., 0., 0., 0., 0., 0., 0., 0., 0., 0., 0., 0., 0., 0.,\n",
       "       1., 0., 0., 0., 0., 1., 1., 0., 1., 0., 0., 1., 0., 0., 1., 0., 1.,\n",
       "       0., 1., 0., 0., 1., 0., 0., 1., 1., 0., 0., 0., 1., 0., 1., 1., 1.,\n",
       "       0., 1., 0., 0., 1., 1., 0., 0., 0., 0., 1., 0., 0., 1., 0., 1., 1.,\n",
       "       1., 0., 0., 0., 0., 1., 0., 1., 0., 0., 1., 0., 0., 0., 1., 0., 0.,\n",
       "       0., 0., 0., 1., 0., 1., 1., 1., 1., 1., 1., 0., 0., 0., 1., 1., 0.,\n",
       "       0., 0., 0., 0., 0., 0., 0., 1., 0., 0., 0., 0., 0., 0., 0., 1., 0.,\n",
       "       0., 0., 0., 0., 0., 1., 0., 0., 0., 0., 1., 1., 1., 0., 0., 1., 0.,\n",
       "       1., 0., 0., 0., 0., 0., 0., 0., 0., 0., 1., 1., 0., 0., 0., 0., 0.,\n",
       "       1., 0., 1., 0., 1., 0., 1., 0., 0., 0., 1., 0., 0., 0., 1., 0., 1.,\n",
       "       1., 1., 0., 1., 0., 0., 0., 1., 0., 0., 0., 0., 0., 1., 0., 0., 0.,\n",
       "       1., 1., 1., 0., 1., 1., 0., 1., 1., 0., 0., 0., 1., 0., 0., 0., 0.,\n",
       "       1., 1., 1., 1., 0., 0., 1., 0., 0., 0., 1., 1., 0., 0., 0., 0., 0.,\n",
       "       0., 0., 0., 0., 1., 1., 0., 0., 1., 0., 0., 0., 1., 0., 0., 0., 1.,\n",
       "       0., 0., 1., 1., 0., 0., 1., 0., 1., 1., 0., 0., 0., 0., 1., 0., 1.,\n",
       "       0., 0., 0., 0., 0., 0., 0., 1., 0., 0., 0., 0., 0., 1., 1., 0., 0.,\n",
       "       0., 0., 0., 0., 0., 1., 1., 0., 1., 1., 0., 1., 1., 0., 0., 1., 0.,\n",
       "       0., 1., 1., 0., 0., 1., 0., 0., 1., 0., 1., 1., 1., 0., 1., 1., 0.,\n",
       "       0., 1., 0., 0., 0., 0., 0., 0., 1., 1., 0., 1., 1., 1., 1., 0., 1.,\n",
       "       0., 0., 1., 1., 1., 1., 1., 0., 0., 0., 0., 0., 0., 0., 0., 0., 1.,\n",
       "       0., 0., 1., 0., 1., 0., 0., 1., 0., 0., 0., 0., 0., 0., 1., 0., 1.,\n",
       "       0., 0., 0., 0., 0., 0., 0., 1., 0., 0., 0., 0., 1., 1., 0., 1., 0.,\n",
       "       0., 0., 0., 1., 1., 1., 1., 1., 1., 1., 0., 0., 0., 0., 1., 1., 1.,\n",
       "       0., 0., 0., 0., 0., 0., 1., 1., 1., 0., 0., 0., 1., 0., 0., 1., 0.,\n",
       "       0., 0., 0., 0., 0., 0., 1., 0., 0., 0., 1., 0., 1., 0., 1., 1., 1.,\n",
       "       1., 1., 0., 0., 0.])"
      ]
     },
     "execution_count": 47,
     "metadata": {},
     "output_type": "execute_result"
    }
   ],
   "source": [
    "### getting a predition of our third model\n",
    "y_pred = model3.predict(X_test)\n",
    "y_pred = np.round(y_pred)\n",
    "y_pred\n",
    "\n",
    "#accuracy_score(y_test,y_pred)"
   ]
  },
  {
   "cell_type": "markdown",
   "id": "3d6eee72-54a5-42b3-8dba-02ccc2a441cf",
   "metadata": {},
   "source": [
    "We should not be using Regressors because we are working with categories as output.\n",
    "Instead, we need to use classifiers."
   ]
  },
  {
   "cell_type": "code",
   "execution_count": 58,
   "id": "c1fd20b7-8c4c-435d-b92e-77ca1ffb400f",
   "metadata": {
    "tags": []
   },
   "outputs": [
    {
     "data": {
      "text/html": [
       "<div>\n",
       "<style scoped>\n",
       "    .dataframe tbody tr th:only-of-type {\n",
       "        vertical-align: middle;\n",
       "    }\n",
       "\n",
       "    .dataframe tbody tr th {\n",
       "        vertical-align: top;\n",
       "    }\n",
       "\n",
       "    .dataframe thead th {\n",
       "        text-align: right;\n",
       "    }\n",
       "</style>\n",
       "<table border=\"1\" class=\"dataframe\">\n",
       "  <thead>\n",
       "    <tr style=\"text-align: right;\">\n",
       "      <th></th>\n",
       "      <th>crew</th>\n",
       "      <th>experiment</th>\n",
       "      <th>time</th>\n",
       "      <th>seat</th>\n",
       "      <th>eeg_fp1</th>\n",
       "      <th>eeg_f7</th>\n",
       "      <th>eeg_f8</th>\n",
       "      <th>eeg_t4</th>\n",
       "      <th>eeg_t6</th>\n",
       "      <th>eeg_t5</th>\n",
       "      <th>...</th>\n",
       "      <th>eeg_c4</th>\n",
       "      <th>eeg_p4</th>\n",
       "      <th>eeg_poz</th>\n",
       "      <th>eeg_c3</th>\n",
       "      <th>eeg_cz</th>\n",
       "      <th>eeg_o2</th>\n",
       "      <th>ecg</th>\n",
       "      <th>r</th>\n",
       "      <th>gsr</th>\n",
       "      <th>event</th>\n",
       "    </tr>\n",
       "  </thead>\n",
       "  <tbody>\n",
       "    <tr>\n",
       "      <th>4420131</th>\n",
       "      <td>13</td>\n",
       "      <td>CA</td>\n",
       "      <td>283.885010</td>\n",
       "      <td>False</td>\n",
       "      <td>-11.291000</td>\n",
       "      <td>-11.479000</td>\n",
       "      <td>-15.766000</td>\n",
       "      <td>-1.32666</td>\n",
       "      <td>6.90779</td>\n",
       "      <td>-11.305400</td>\n",
       "      <td>...</td>\n",
       "      <td>4.108120</td>\n",
       "      <td>2.793920</td>\n",
       "      <td>-5.601350</td>\n",
       "      <td>-3.967870</td>\n",
       "      <td>-2.948360</td>\n",
       "      <td>-5.064130</td>\n",
       "      <td>-16546.900391</td>\n",
       "      <td>677.336975</td>\n",
       "      <td>553.388000</td>\n",
       "      <td>C</td>\n",
       "    </tr>\n",
       "    <tr>\n",
       "      <th>3750119</th>\n",
       "      <td>7</td>\n",
       "      <td>SS</td>\n",
       "      <td>73.479004</td>\n",
       "      <td>False</td>\n",
       "      <td>0.307862</td>\n",
       "      <td>9.567890</td>\n",
       "      <td>2.505840</td>\n",
       "      <td>6.01694</td>\n",
       "      <td>3.83542</td>\n",
       "      <td>6.739190</td>\n",
       "      <td>...</td>\n",
       "      <td>10.238400</td>\n",
       "      <td>6.992280</td>\n",
       "      <td>-3.691310</td>\n",
       "      <td>5.997960</td>\n",
       "      <td>6.873480</td>\n",
       "      <td>-0.496282</td>\n",
       "      <td>7670.859863</td>\n",
       "      <td>732.747986</td>\n",
       "      <td>1422.390015</td>\n",
       "      <td>A</td>\n",
       "    </tr>\n",
       "    <tr>\n",
       "      <th>2795667</th>\n",
       "      <td>6</td>\n",
       "      <td>CA</td>\n",
       "      <td>338.980469</td>\n",
       "      <td>True</td>\n",
       "      <td>-3.439860</td>\n",
       "      <td>-4.273920</td>\n",
       "      <td>-14.048200</td>\n",
       "      <td>-9.61291</td>\n",
       "      <td>-12.63800</td>\n",
       "      <td>-1.167820</td>\n",
       "      <td>...</td>\n",
       "      <td>-0.436768</td>\n",
       "      <td>-3.095720</td>\n",
       "      <td>8.875840</td>\n",
       "      <td>5.684930</td>\n",
       "      <td>8.427330</td>\n",
       "      <td>4.798030</td>\n",
       "      <td>10506.299805</td>\n",
       "      <td>795.781982</td>\n",
       "      <td>1697.329956</td>\n",
       "      <td>C</td>\n",
       "    </tr>\n",
       "    <tr>\n",
       "      <th>1867314</th>\n",
       "      <td>4</td>\n",
       "      <td>DA</td>\n",
       "      <td>326.257812</td>\n",
       "      <td>False</td>\n",
       "      <td>21.420099</td>\n",
       "      <td>15.539400</td>\n",
       "      <td>-0.604774</td>\n",
       "      <td>-6.50413</td>\n",
       "      <td>-3.16223</td>\n",
       "      <td>-0.819487</td>\n",
       "      <td>...</td>\n",
       "      <td>-0.574353</td>\n",
       "      <td>-3.829190</td>\n",
       "      <td>-3.613800</td>\n",
       "      <td>5.334050</td>\n",
       "      <td>9.900310</td>\n",
       "      <td>1.267600</td>\n",
       "      <td>-746.991028</td>\n",
       "      <td>598.934998</td>\n",
       "      <td>927.851990</td>\n",
       "      <td>A</td>\n",
       "    </tr>\n",
       "    <tr>\n",
       "      <th>1034833</th>\n",
       "      <td>3</td>\n",
       "      <td>CA</td>\n",
       "      <td>159.074219</td>\n",
       "      <td>True</td>\n",
       "      <td>53.655701</td>\n",
       "      <td>18.531300</td>\n",
       "      <td>21.784901</td>\n",
       "      <td>1.82460</td>\n",
       "      <td>-4.38305</td>\n",
       "      <td>8.340510</td>\n",
       "      <td>...</td>\n",
       "      <td>-0.478073</td>\n",
       "      <td>-4.341080</td>\n",
       "      <td>-10.729500</td>\n",
       "      <td>11.065300</td>\n",
       "      <td>2.396640</td>\n",
       "      <td>-10.652700</td>\n",
       "      <td>8656.940430</td>\n",
       "      <td>799.846008</td>\n",
       "      <td>439.843994</td>\n",
       "      <td>C</td>\n",
       "    </tr>\n",
       "    <tr>\n",
       "      <th>...</th>\n",
       "      <td>...</td>\n",
       "      <td>...</td>\n",
       "      <td>...</td>\n",
       "      <td>...</td>\n",
       "      <td>...</td>\n",
       "      <td>...</td>\n",
       "      <td>...</td>\n",
       "      <td>...</td>\n",
       "      <td>...</td>\n",
       "      <td>...</td>\n",
       "      <td>...</td>\n",
       "      <td>...</td>\n",
       "      <td>...</td>\n",
       "      <td>...</td>\n",
       "      <td>...</td>\n",
       "      <td>...</td>\n",
       "      <td>...</td>\n",
       "      <td>...</td>\n",
       "      <td>...</td>\n",
       "      <td>...</td>\n",
       "      <td>...</td>\n",
       "    </tr>\n",
       "    <tr>\n",
       "      <th>1849636</th>\n",
       "      <td>4</td>\n",
       "      <td>DA</td>\n",
       "      <td>295.730469</td>\n",
       "      <td>False</td>\n",
       "      <td>14.122400</td>\n",
       "      <td>15.303200</td>\n",
       "      <td>-5.799780</td>\n",
       "      <td>10.17700</td>\n",
       "      <td>10.79270</td>\n",
       "      <td>12.089700</td>\n",
       "      <td>...</td>\n",
       "      <td>12.688100</td>\n",
       "      <td>11.521600</td>\n",
       "      <td>7.445140</td>\n",
       "      <td>18.359699</td>\n",
       "      <td>14.467900</td>\n",
       "      <td>6.085300</td>\n",
       "      <td>-976.494995</td>\n",
       "      <td>598.539978</td>\n",
       "      <td>915.482971</td>\n",
       "      <td>A</td>\n",
       "    </tr>\n",
       "    <tr>\n",
       "      <th>3035151</th>\n",
       "      <td>6</td>\n",
       "      <td>SS</td>\n",
       "      <td>110.671875</td>\n",
       "      <td>False</td>\n",
       "      <td>-12.679200</td>\n",
       "      <td>-11.106500</td>\n",
       "      <td>0.043394</td>\n",
       "      <td>-7.17251</td>\n",
       "      <td>2.63884</td>\n",
       "      <td>-3.524780</td>\n",
       "      <td>...</td>\n",
       "      <td>-1.409420</td>\n",
       "      <td>0.478319</td>\n",
       "      <td>0.301217</td>\n",
       "      <td>-3.322530</td>\n",
       "      <td>-0.097792</td>\n",
       "      <td>4.377130</td>\n",
       "      <td>27350.000000</td>\n",
       "      <td>655.132019</td>\n",
       "      <td>839.919983</td>\n",
       "      <td>A</td>\n",
       "    </tr>\n",
       "    <tr>\n",
       "      <th>2949789</th>\n",
       "      <td>6</td>\n",
       "      <td>DA</td>\n",
       "      <td>286.089844</td>\n",
       "      <td>True</td>\n",
       "      <td>293.348999</td>\n",
       "      <td>231.192001</td>\n",
       "      <td>94.421799</td>\n",
       "      <td>25.64390</td>\n",
       "      <td>8.95747</td>\n",
       "      <td>30.726900</td>\n",
       "      <td>...</td>\n",
       "      <td>57.303600</td>\n",
       "      <td>39.918598</td>\n",
       "      <td>49.947201</td>\n",
       "      <td>93.094704</td>\n",
       "      <td>82.961700</td>\n",
       "      <td>23.657000</td>\n",
       "      <td>12028.500000</td>\n",
       "      <td>793.830994</td>\n",
       "      <td>1754.630005</td>\n",
       "      <td>A</td>\n",
       "    </tr>\n",
       "    <tr>\n",
       "      <th>4356940</th>\n",
       "      <td>13</td>\n",
       "      <td>CA</td>\n",
       "      <td>172.543015</td>\n",
       "      <td>True</td>\n",
       "      <td>12.547400</td>\n",
       "      <td>16.913700</td>\n",
       "      <td>9.791590</td>\n",
       "      <td>7.78767</td>\n",
       "      <td>1.18204</td>\n",
       "      <td>0.982751</td>\n",
       "      <td>...</td>\n",
       "      <td>9.337510</td>\n",
       "      <td>4.319190</td>\n",
       "      <td>5.500860</td>\n",
       "      <td>0.469433</td>\n",
       "      <td>17.189400</td>\n",
       "      <td>1.362930</td>\n",
       "      <td>-8050.169922</td>\n",
       "      <td>799.476990</td>\n",
       "      <td>804.825012</td>\n",
       "      <td>C</td>\n",
       "    </tr>\n",
       "    <tr>\n",
       "      <th>1413076</th>\n",
       "      <td>3</td>\n",
       "      <td>SS</td>\n",
       "      <td>176.062500</td>\n",
       "      <td>False</td>\n",
       "      <td>-4.039760</td>\n",
       "      <td>-2.959750</td>\n",
       "      <td>-11.230400</td>\n",
       "      <td>-5.86629</td>\n",
       "      <td>2.05168</td>\n",
       "      <td>3.721300</td>\n",
       "      <td>...</td>\n",
       "      <td>-1.861020</td>\n",
       "      <td>2.259770</td>\n",
       "      <td>6.313570</td>\n",
       "      <td>2.418040</td>\n",
       "      <td>5.387430</td>\n",
       "      <td>5.660060</td>\n",
       "      <td>5695.649902</td>\n",
       "      <td>638.182983</td>\n",
       "      <td>698.809021</td>\n",
       "      <td>A</td>\n",
       "    </tr>\n",
       "  </tbody>\n",
       "</table>\n",
       "<p>4867 rows × 28 columns</p>\n",
       "</div>"
      ],
      "text/plain": [
       "         crew experiment        time   seat     eeg_fp1      eeg_f7  \\\n",
       "4420131    13         CA  283.885010  False  -11.291000  -11.479000   \n",
       "3750119     7         SS   73.479004  False    0.307862    9.567890   \n",
       "2795667     6         CA  338.980469   True   -3.439860   -4.273920   \n",
       "1867314     4         DA  326.257812  False   21.420099   15.539400   \n",
       "1034833     3         CA  159.074219   True   53.655701   18.531300   \n",
       "...       ...        ...         ...    ...         ...         ...   \n",
       "1849636     4         DA  295.730469  False   14.122400   15.303200   \n",
       "3035151     6         SS  110.671875  False  -12.679200  -11.106500   \n",
       "2949789     6         DA  286.089844   True  293.348999  231.192001   \n",
       "4356940    13         CA  172.543015   True   12.547400   16.913700   \n",
       "1413076     3         SS  176.062500  False   -4.039760   -2.959750   \n",
       "\n",
       "            eeg_f8    eeg_t4    eeg_t6     eeg_t5  ...     eeg_c4     eeg_p4  \\\n",
       "4420131 -15.766000  -1.32666   6.90779 -11.305400  ...   4.108120   2.793920   \n",
       "3750119   2.505840   6.01694   3.83542   6.739190  ...  10.238400   6.992280   \n",
       "2795667 -14.048200  -9.61291 -12.63800  -1.167820  ...  -0.436768  -3.095720   \n",
       "1867314  -0.604774  -6.50413  -3.16223  -0.819487  ...  -0.574353  -3.829190   \n",
       "1034833  21.784901   1.82460  -4.38305   8.340510  ...  -0.478073  -4.341080   \n",
       "...            ...       ...       ...        ...  ...        ...        ...   \n",
       "1849636  -5.799780  10.17700  10.79270  12.089700  ...  12.688100  11.521600   \n",
       "3035151   0.043394  -7.17251   2.63884  -3.524780  ...  -1.409420   0.478319   \n",
       "2949789  94.421799  25.64390   8.95747  30.726900  ...  57.303600  39.918598   \n",
       "4356940   9.791590   7.78767   1.18204   0.982751  ...   9.337510   4.319190   \n",
       "1413076 -11.230400  -5.86629   2.05168   3.721300  ...  -1.861020   2.259770   \n",
       "\n",
       "           eeg_poz     eeg_c3     eeg_cz     eeg_o2           ecg           r  \\\n",
       "4420131  -5.601350  -3.967870  -2.948360  -5.064130 -16546.900391  677.336975   \n",
       "3750119  -3.691310   5.997960   6.873480  -0.496282   7670.859863  732.747986   \n",
       "2795667   8.875840   5.684930   8.427330   4.798030  10506.299805  795.781982   \n",
       "1867314  -3.613800   5.334050   9.900310   1.267600   -746.991028  598.934998   \n",
       "1034833 -10.729500  11.065300   2.396640 -10.652700   8656.940430  799.846008   \n",
       "...            ...        ...        ...        ...           ...         ...   \n",
       "1849636   7.445140  18.359699  14.467900   6.085300   -976.494995  598.539978   \n",
       "3035151   0.301217  -3.322530  -0.097792   4.377130  27350.000000  655.132019   \n",
       "2949789  49.947201  93.094704  82.961700  23.657000  12028.500000  793.830994   \n",
       "4356940   5.500860   0.469433  17.189400   1.362930  -8050.169922  799.476990   \n",
       "1413076   6.313570   2.418040   5.387430   5.660060   5695.649902  638.182983   \n",
       "\n",
       "                 gsr  event  \n",
       "4420131   553.388000      C  \n",
       "3750119  1422.390015      A  \n",
       "2795667  1697.329956      C  \n",
       "1867314   927.851990      A  \n",
       "1034833   439.843994      C  \n",
       "...              ...    ...  \n",
       "1849636   915.482971      A  \n",
       "3035151   839.919983      A  \n",
       "2949789  1754.630005      A  \n",
       "4356940   804.825012      C  \n",
       "1413076   698.809021      A  \n",
       "\n",
       "[4867 rows x 28 columns]"
      ]
     },
     "execution_count": 58,
     "metadata": {},
     "output_type": "execute_result"
    }
   ],
   "source": [
    "### creating a fourth model, this one is a good one because it is a classifier and it will be better for categorical data\n",
    "model4 = RandomForestClassifier()\n",
    "\n",
    "### taking a sample from the original dataframe\n",
    "sample2 = df.sample(frac=0.001, random_state=42)\n",
    "\n",
    "### printing out the sampled data\n",
    "sample2"
   ]
  },
  {
   "cell_type": "code",
   "execution_count": 59,
   "id": "598abd74-5922-4796-a18c-22ee3150ef67",
   "metadata": {
    "tags": []
   },
   "outputs": [],
   "source": [
    "### converting the target column of the sampled data into numerical data.\n",
    "y = sample2[\"experiment\"]\n",
    "y_new = []\n",
    "for i in y:\n",
    "    if(i == 'CA'):\n",
    "        y_new.append(1)\n",
    "    elif(i == 'DA'):\n",
    "        y_new.append(2)\n",
    "    else:\n",
    "        y_new.append(3)\n",
    "# y_new"
   ]
  },
  {
   "cell_type": "code",
   "execution_count": 60,
   "id": "a2638da2-db5c-4d28-beae-e95d66467c72",
   "metadata": {
    "tags": []
   },
   "outputs": [],
   "source": [
    "### dropping the target column and the event column\n",
    "sample2 = sample2.drop([\"experiment\"], axis=1)\n",
    "sample2 = sample2.drop([\"event\"], axis=1)\n",
    "\n",
    "### splitting the data into a training set and a test set\n",
    "X_train, X_test, y_train, y_test = train_test_split(sample2,y_new,test_size=0.2, random_state=15)"
   ]
  },
  {
   "cell_type": "code",
   "execution_count": 61,
   "id": "0a2d0f8a-9de6-4718-9830-e615e7b8dc67",
   "metadata": {
    "tags": []
   },
   "outputs": [],
   "source": [
    "### checking if our training set and test set are what they should look like\n",
    "# X_train"
   ]
  },
  {
   "cell_type": "code",
   "execution_count": 62,
   "id": "e755ff84-37c0-44b9-b819-8addafeb02ff",
   "metadata": {
    "tags": []
   },
   "outputs": [
    {
     "data": {
      "text/html": [
       "<style>#sk-container-id-1 {color: black;background-color: white;}#sk-container-id-1 pre{padding: 0;}#sk-container-id-1 div.sk-toggleable {background-color: white;}#sk-container-id-1 label.sk-toggleable__label {cursor: pointer;display: block;width: 100%;margin-bottom: 0;padding: 0.3em;box-sizing: border-box;text-align: center;}#sk-container-id-1 label.sk-toggleable__label-arrow:before {content: \"▸\";float: left;margin-right: 0.25em;color: #696969;}#sk-container-id-1 label.sk-toggleable__label-arrow:hover:before {color: black;}#sk-container-id-1 div.sk-estimator:hover label.sk-toggleable__label-arrow:before {color: black;}#sk-container-id-1 div.sk-toggleable__content {max-height: 0;max-width: 0;overflow: hidden;text-align: left;background-color: #f0f8ff;}#sk-container-id-1 div.sk-toggleable__content pre {margin: 0.2em;color: black;border-radius: 0.25em;background-color: #f0f8ff;}#sk-container-id-1 input.sk-toggleable__control:checked~div.sk-toggleable__content {max-height: 200px;max-width: 100%;overflow: auto;}#sk-container-id-1 input.sk-toggleable__control:checked~label.sk-toggleable__label-arrow:before {content: \"▾\";}#sk-container-id-1 div.sk-estimator input.sk-toggleable__control:checked~label.sk-toggleable__label {background-color: #d4ebff;}#sk-container-id-1 div.sk-label input.sk-toggleable__control:checked~label.sk-toggleable__label {background-color: #d4ebff;}#sk-container-id-1 input.sk-hidden--visually {border: 0;clip: rect(1px 1px 1px 1px);clip: rect(1px, 1px, 1px, 1px);height: 1px;margin: -1px;overflow: hidden;padding: 0;position: absolute;width: 1px;}#sk-container-id-1 div.sk-estimator {font-family: monospace;background-color: #f0f8ff;border: 1px dotted black;border-radius: 0.25em;box-sizing: border-box;margin-bottom: 0.5em;}#sk-container-id-1 div.sk-estimator:hover {background-color: #d4ebff;}#sk-container-id-1 div.sk-parallel-item::after {content: \"\";width: 100%;border-bottom: 1px solid gray;flex-grow: 1;}#sk-container-id-1 div.sk-label:hover label.sk-toggleable__label {background-color: #d4ebff;}#sk-container-id-1 div.sk-serial::before {content: \"\";position: absolute;border-left: 1px solid gray;box-sizing: border-box;top: 0;bottom: 0;left: 50%;z-index: 0;}#sk-container-id-1 div.sk-serial {display: flex;flex-direction: column;align-items: center;background-color: white;padding-right: 0.2em;padding-left: 0.2em;position: relative;}#sk-container-id-1 div.sk-item {position: relative;z-index: 1;}#sk-container-id-1 div.sk-parallel {display: flex;align-items: stretch;justify-content: center;background-color: white;position: relative;}#sk-container-id-1 div.sk-item::before, #sk-container-id-1 div.sk-parallel-item::before {content: \"\";position: absolute;border-left: 1px solid gray;box-sizing: border-box;top: 0;bottom: 0;left: 50%;z-index: -1;}#sk-container-id-1 div.sk-parallel-item {display: flex;flex-direction: column;z-index: 1;position: relative;background-color: white;}#sk-container-id-1 div.sk-parallel-item:first-child::after {align-self: flex-end;width: 50%;}#sk-container-id-1 div.sk-parallel-item:last-child::after {align-self: flex-start;width: 50%;}#sk-container-id-1 div.sk-parallel-item:only-child::after {width: 0;}#sk-container-id-1 div.sk-dashed-wrapped {border: 1px dashed gray;margin: 0 0.4em 0.5em 0.4em;box-sizing: border-box;padding-bottom: 0.4em;background-color: white;}#sk-container-id-1 div.sk-label label {font-family: monospace;font-weight: bold;display: inline-block;line-height: 1.2em;}#sk-container-id-1 div.sk-label-container {text-align: center;}#sk-container-id-1 div.sk-container {/* jupyter's `normalize.less` sets `[hidden] { display: none; }` but bootstrap.min.css set `[hidden] { display: none !important; }` so we also need the `!important` here to be able to override the default hidden behavior on the sphinx rendered scikit-learn.org. See: https://github.com/scikit-learn/scikit-learn/issues/21755 */display: inline-block !important;position: relative;}#sk-container-id-1 div.sk-text-repr-fallback {display: none;}</style><div id=\"sk-container-id-1\" class=\"sk-top-container\"><div class=\"sk-text-repr-fallback\"><pre>RandomForestClassifier()</pre><b>In a Jupyter environment, please rerun this cell to show the HTML representation or trust the notebook. <br />On GitHub, the HTML representation is unable to render, please try loading this page with nbviewer.org.</b></div><div class=\"sk-container\" hidden><div class=\"sk-item\"><div class=\"sk-estimator sk-toggleable\"><input class=\"sk-toggleable__control sk-hidden--visually\" id=\"sk-estimator-id-1\" type=\"checkbox\" checked><label for=\"sk-estimator-id-1\" class=\"sk-toggleable__label sk-toggleable__label-arrow\">RandomForestClassifier</label><div class=\"sk-toggleable__content\"><pre>RandomForestClassifier()</pre></div></div></div></div></div>"
      ],
      "text/plain": [
       "RandomForestClassifier()"
      ]
     },
     "execution_count": 62,
     "metadata": {},
     "output_type": "execute_result"
    }
   ],
   "source": [
    "### fitting the classifier model to our training data\n",
    "model4.fit(X_train, y_train)"
   ]
  },
  {
   "cell_type": "code",
   "execution_count": 63,
   "id": "63e16dee-0f3c-49a5-afba-b23585bd54c5",
   "metadata": {
    "tags": []
   },
   "outputs": [
    {
     "data": {
      "text/plain": [
       "0.9548254620123203"
      ]
     },
     "execution_count": 63,
     "metadata": {},
     "output_type": "execute_result"
    }
   ],
   "source": [
    "### getting a prediction of our data from the test set\n",
    "y_pred = model4.predict(X_test)\n",
    "\n",
    "### finding the accuracy of the data.\n",
    "accuracy_score(y_test,y_pred)"
   ]
  },
  {
   "cell_type": "code",
   "execution_count": 84,
   "id": "e33b9778-5bfd-4e21-8a4d-3297450e5142",
   "metadata": {
    "tags": []
   },
   "outputs": [
    {
     "data": {
      "text/plain": [
       "array([[290,   5,  21],\n",
       "       [  4, 325,   3],\n",
       "       [ 18,   1, 307]], dtype=int64)"
      ]
     },
     "execution_count": 84,
     "metadata": {},
     "output_type": "execute_result"
    }
   ],
   "source": [
    "### confusion matrix on the tested data\n",
    "confusion_matrix(y_test,y_pred)"
   ]
  },
  {
   "cell_type": "markdown",
   "id": "a5cd0c77-70f2-42ca-a13f-cf6cee3abe01",
   "metadata": {},
   "source": [
    "Cool website to get familiar with confusion matrices if you don't know much about them and do more research if this one does not help you much\n",
    "\n",
    "https://www.v7labs.com/blog/confusion-matrix-guide#:~:text=A%20confusion%20matrix%2C%20as%20the%20name%20suggests%2C%20is,the%20original%20classes%20to%20which%20the%20data%20belong.\n"
   ]
  },
  {
   "cell_type": "code",
   "execution_count": 64,
   "id": "7bb53be2-e41e-4eae-9975-5045014cf131",
   "metadata": {},
   "outputs": [
    {
     "data": {
      "text/plain": [
       "0.9445071868583164"
      ]
     },
     "execution_count": 64,
     "metadata": {},
     "output_type": "execute_result"
    }
   ],
   "source": [
    "### Bootstrap\n",
    "# This takes roughly 8minuets to run 20 times\n",
    "bs = 0\n",
    "for i in range(20):\n",
    "    sample = df.sample(frac=0.001)\n",
    "    y = sample[\"experiment\"]\n",
    "    y_new = []\n",
    "    for i in y:\n",
    "        if(i == 'CA'):\n",
    "            y_new.append(1)\n",
    "        elif(i == 'DA'):\n",
    "            y_new.append(2)\n",
    "        else:\n",
    "            y_new.append(3)\n",
    "            \n",
    "    sample = sample.drop([\"experiment\"], axis=1)\n",
    "    sample = sample.drop([\"event\"], axis=1)\n",
    "    X_train, X_test, y_train, y_test = train_test_split(sample,y_new,test_size=0.2, random_state=15)\n",
    "    \n",
    "    model = RandomForestClassifier()\n",
    "    model.fit(X_train, y_train)\n",
    "    bs += accuracy_score(y_test,model.predict(X_test))\n",
    "\n",
    "bs/20"
   ]
  },
  {
   "cell_type": "code",
   "execution_count": 65,
   "id": "8a9275f4-7b97-4cc3-b074-eb690b9f32f5",
   "metadata": {
    "tags": []
   },
   "outputs": [
    {
     "data": {
      "text/plain": [
       "0.949435318275154"
      ]
     },
     "execution_count": 65,
     "metadata": {},
     "output_type": "execute_result"
    }
   ],
   "source": [
    "### Gradient Booster Bootstrap\n",
    "bs = 0\n",
    "for i in range(20):\n",
    "    sample5 = df.sample(frac=0.001)\n",
    "    # len(sample5)\n",
    "    y = sample5[\"experiment\"]\n",
    "    y_new = []\n",
    "    for i in y:\n",
    "        if(i == 'CA'):\n",
    "            y_new.append(1)\n",
    "        elif(i == 'DA'):\n",
    "            y_new.append(2)\n",
    "        else:\n",
    "            y_new.append(3)\n",
    "\n",
    "    sample5 = sample5.drop([\"experiment\"], axis=1)\n",
    "    sample5 = sample5.drop([\"event\"], axis=1)\n",
    "    X_train, X_test, y_train, y_test = train_test_split(sample5,y_new,test_size=0.2, random_state=15)\n",
    "\n",
    "    model5 = GradientBoostingClassifier()\n",
    "    model5.fit(X_train,y_train)\n",
    "    bs += accuracy_score(y_test, model.predict(X_test))\n",
    "    \n",
    "bs/20"
   ]
  },
  {
   "cell_type": "code",
   "execution_count": null,
   "id": "2160012f-a176-4e2f-a2ca-eb043da90a56",
   "metadata": {
    "tags": []
   },
   "outputs": [],
   "source": [
    "### Gradient Boosting testing\n",
    "sample5 = df.sample(frac=0.01)\n",
    "# len(sample5)\n",
    "y = sample5[\"experiment\"]\n",
    "y_new = []\n",
    "for i in y:\n",
    "    if(i == 'CA'):\n",
    "        y_new.append(1)\n",
    "    elif(i == 'DA'):\n",
    "        y_new.append(2)\n",
    "    else:\n",
    "        y_new.append(3)\n",
    "\n",
    "sample5 = sample5.drop([\"experiment\"], axis=1)\n",
    "sample5 = sample5.drop([\"event\"], axis=1)\n",
    "X_train, X_test, y_train, y_test = train_test_split(sample5,y_new,test_size=0.2, random_state=15)\n",
    "\n",
    "model5 = GradientBoostingClassifier()\n",
    "model5.fit(X_train,y_train)\n",
    "accuracy_score(y_test, model5.predict(X_test))"
   ]
  },
  {
   "cell_type": "markdown",
   "id": "b925c180-3db8-415d-8181-604a2d152e65",
   "metadata": {},
   "source": [
    "One run through gave 93%\n",
    "Second run through gave 95%\n"
   ]
  },
  {
   "cell_type": "code",
   "execution_count": 92,
   "id": "de87569a-ae58-451d-a6ee-4d627cf5538c",
   "metadata": {},
   "outputs": [
    {
     "data": {
      "text/plain": [
       "0.988597842835131"
      ]
     },
     "execution_count": 92,
     "metadata": {},
     "output_type": "execute_result"
    }
   ],
   "source": [
    "### Decision Tree Classifier model\n",
    "from sklearn.tree import DecisionTreeClassifier\n",
    "\n",
    "sample6 = df.sample(frac=0.01)\n",
    "# sample6\n",
    "y = sample6[\"experiment\"]\n",
    "y_new = []\n",
    "for i in y:\n",
    "    if(i == 'CA'):\n",
    "        y_new.append(1)\n",
    "    elif(i == 'DA'):\n",
    "        y_new.append(2)\n",
    "    else:\n",
    "        y_new.append(3)\n",
    "        \n",
    "sample6 = sample6.drop([\"experiment\"], axis=1)\n",
    "sample6 = sample6.drop([\"event\"], axis=1)\n",
    "\n",
    "X_train, X_test,y_train,y_test = train_test_split(sample6, y_new, test_size=0.2, random_state = 15)\n",
    "\n",
    "model6 = DecisionTreeClassifier()\n",
    "model6.fit(X_train, y_train)\n",
    "y_pred = model6.predict(X_test)\n",
    "accuracy_score(y_test,y_pred)"
   ]
  },
  {
   "cell_type": "markdown",
   "id": "6642d6f6-9d1d-492b-9ac1-86b5c5165087",
   "metadata": {},
   "source": [
    "I was able to get an accuracy of 98.8% which has proven to be the best model so far."
   ]
  },
  {
   "cell_type": "code",
   "execution_count": 103,
   "id": "7fabb4a1-eb3c-4845-90a8-68ef296ac389",
   "metadata": {
    "tags": []
   },
   "outputs": [
    {
     "data": {
      "text/plain": [
       "0.9425051334702259"
      ]
     },
     "execution_count": 103,
     "metadata": {},
     "output_type": "execute_result"
    }
   ],
   "source": [
    "### Decision Tee Classifier without time\n",
    "sample7 = df.sample(frac=0.001)\n",
    "# sample6\n",
    "y = sample7[\"experiment\"]\n",
    "y_new = []\n",
    "for i in y:\n",
    "    if(i == 'CA'):\n",
    "        y_new.append(1)\n",
    "    elif(i == 'DA'):\n",
    "        y_new.append(2)\n",
    "    else:\n",
    "        y_new.append(3)\n",
    "        \n",
    "sample7 = sample7.drop([\"experiment\"], axis=1)\n",
    "sample7 = sample7.drop([\"event\"], axis=1)\n",
    "sample7 = sample7.drop([\"time\"], axis=1)\n",
    "\n",
    "X_train, X_test,y_train,y_test = train_test_split(sample7, y_new, test_size=0.2, random_state = 15)\n",
    "\n",
    "model7 = DecisionTreeClassifier()\n",
    "model7.fit(X_train, y_train)\n",
    "y_pred = model7.predict(X_test)\n",
    "accuracy_score(y_test,y_pred)"
   ]
  },
  {
   "cell_type": "markdown",
   "id": "f025f6e0-2f23-4102-8306-377bdec0c9c9",
   "metadata": {},
   "source": [
    "I was able to get an accuracy between 92 and 96 but not higher. So it isn't a bad model but it is less accuracte than the one with time."
   ]
  },
  {
   "cell_type": "code",
   "execution_count": null,
   "id": "27394a9d-fd26-4854-b172-83adc0e9825a",
   "metadata": {},
   "outputs": [],
   "source": []
  }
 ],
 "metadata": {
  "kernelspec": {
   "display_name": "Python 3 (ipykernel)",
   "language": "python",
   "name": "python3"
  },
  "language_info": {
   "codemirror_mode": {
    "name": "ipython",
    "version": 3
   },
   "file_extension": ".py",
   "mimetype": "text/x-python",
   "name": "python",
   "nbconvert_exporter": "python",
   "pygments_lexer": "ipython3",
   "version": "3.10.9"
  }
 },
 "nbformat": 4,
 "nbformat_minor": 5
}
